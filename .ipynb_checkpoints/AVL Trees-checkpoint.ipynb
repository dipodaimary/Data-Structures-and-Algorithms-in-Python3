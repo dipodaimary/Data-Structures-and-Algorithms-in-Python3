{
 "cells": [
  {
   "cell_type": "markdown",
   "metadata": {},
   "source": [
    "### Node implementation"
   ]
  },
  {
   "cell_type": "code",
   "execution_count": 38,
   "metadata": {
    "collapsed": true
   },
   "outputs": [],
   "source": [
    "class Node(object):\n",
    "    def __init__(self,data,parentNode):\n",
    "        self.data = data\n",
    "        self.parentNode = parentNode\n",
    "        self.leftChild = None\n",
    "        self.rightChild = None\n",
    "        self.balance = 0\n",
    "        \n",
    "    def insert(self,data,parentNode):\n",
    "        if data<self.data:\n",
    "            if not self.leftChild:\n",
    "                self.leftChild = Node(data,None)\n",
    "            else:\n",
    "                self.leftChild.insert(data,parentNode)\n",
    "        else:\n",
    "            if not self.rightChild:\n",
    "                self.rightChild = Node(data,None)\n",
    "            else:\n",
    "                self.rightChild.insert(data,parentNode)\n",
    "        return parentNode\n",
    "    \n",
    "    def traverseInOrder(self):\n",
    "        if not self.leftChild:\n",
    "            self.leftChild.traverseInorder()\n",
    "        print(self.data)\n",
    "        if not self.rightChild:\n",
    "            self.rightChild.traverseInoder()\n",
    "    \n",
    "    def getMax(self):\n",
    "        if not self.rightChild:\n",
    "            return self.data\n",
    "        else:\n",
    "            return self.rightChild.getMax()\n",
    "    \n",
    "    def getMin(self):\n",
    "        if not self.leftChild:\n",
    "            return self.data\n",
    "        else:\n",
    "            return self.leftChild.getMin()"
   ]
  },
  {
   "cell_type": "markdown",
   "metadata": {},
   "source": [
    "### Balance Tree Implementation"
   ]
  },
  {
   "cell_type": "code",
   "execution_count": 39,
   "metadata": {
    "collapsed": true
   },
   "outputs": [],
   "source": [
    "class BalanceTree(object):\n",
    "    def __init__(self):\n",
    "        self.rootNode = None\n",
    "        \n",
    "    def insert(self,data):\n",
    "        parentNode = self.rootNode\n",
    "        if self.rootNode == None:\n",
    "            parentNode = Node(data,None)\n",
    "            self.rootNode = parentNode\n",
    "        else:\n",
    "            parentNode = self.rootNode.insert(data,self.rootNode)\n",
    "        self.rebalanceTree(parentNode)\n",
    "        \n",
    "    def rebalanceTree(self,parentNode):\n",
    "        self.setBalance(parentNode)\n",
    "        if parentNode.balance<=-1:\n",
    "            if self.height(parentNode.leftChild.leftChild) > self.height(parentNode.leftChild.rightChild):\n",
    "                parentNode = self.rotateRight(parentNode)\n",
    "            else:\n",
    "                parentNode = self.rotateLeftRight(parentNode)\n",
    "        elif parentNode.balance>1:\n",
    "            if self.height(parentNode.rightChild.rightChild)> self.height(parentNode.rightChild.leftChild):\n",
    "                parentNode = self.rotateLeft(parentNode)\n",
    "            else:\n",
    "                parentNode = self.rotateRightLeft(parentNode)\n",
    "        if parentNode.parentNode is not None:\n",
    "            self.rebalanceTree(parentNode.parentNode)\n",
    "        else:\n",
    "            self.rootNode = parentNode\n",
    "        \n",
    "    def rotateLeftRight(self,node):\n",
    "        print(\"Rotation Left Right....\")\n",
    "        node.leftChild = self.rotateLeft(node.leftChild)\n",
    "        return self.rightRotate(node)\n",
    "    \n",
    "    def rotateRightLeft(self,node):\n",
    "        print(\"Rotation Right Left...\")\n",
    "        node.rightChild = self.rotateRight(node.rightChild)\n",
    "        return self.rotateLeft(node)\n",
    "    \n",
    "    def rotateLeft(self,node):\n",
    "        print(\"Rotate Left\")\n",
    "        b = node.rightChild\n",
    "        b.parentNode = node.parentNode\n",
    "        node.rightChild = b.leftChild\n",
    "        if node.rightChild is not None:\n",
    "            node.rightChild.parentNode = node\n",
    "        b.leftChild = node\n",
    "        node.parentNode = b\n",
    "        if b.parentNode is not None:\n",
    "            if b.parentNode.rightChild == node:\n",
    "                b.parentNode.rightChild = b\n",
    "            else:\n",
    "                b.parentNode.leftChild = b\n",
    "        self.setBalance(node)\n",
    "        self.setBalance(b)\n",
    "        return b\n",
    "    \n",
    "    def rotateRight(self,node):\n",
    "        print(\"Rotate Right\")\n",
    "        b = node.leftChild\n",
    "        b.parentNode = node.parentNode\n",
    "        node.leftChild = b.rightChild\n",
    "        if node.leftChild is not None:\n",
    "            node.leftChild.parentNode = node\n",
    "        b.rightChild = node\n",
    "        node.parentNode = b\n",
    "        if b.parentNode is not None:\n",
    "            if b.parentNode.rightChild == node:\n",
    "                b.parentNode.rightChild = b\n",
    "            else:\n",
    "                b.parentNode.leftChild = b\n",
    "        self.setBalance(node)\n",
    "        self.setBalance(b)\n",
    "        return b\n",
    "    \n",
    "    def setBalance(self,node):\n",
    "        node.balance = (self.height(node.rightChild)-self.height(node.leftChild))\n",
    "        \n",
    "    def height(self,node):\n",
    "        if node == None:\n",
    "            return -1\n",
    "        else:\n",
    "            return 1+ max(self.height(node.leftChild),self.height(node.rightChild))\n",
    "    def traverseInOrder(self):\n",
    "        self.rootNode.traverseInOrder()"
   ]
  },
  {
   "cell_type": "markdown",
   "metadata": {},
   "source": [
    "### Test "
   ]
  },
  {
   "cell_type": "code",
   "execution_count": 40,
   "metadata": {},
   "outputs": [
    {
     "name": "stdout",
     "output_type": "stream",
     "text": [
      "Rotation Left Right....\n",
      "Rotate Left\n"
     ]
    },
    {
     "ename": "AttributeError",
     "evalue": "'NoneType' object has no attribute 'parentNode'",
     "output_type": "error",
     "traceback": [
      "\u001b[0;31m---------------------------------------------------------------------------\u001b[0m",
      "\u001b[0;31mAttributeError\u001b[0m                            Traceback (most recent call last)",
      "\u001b[0;32m<ipython-input-40-8bd27474ecc6>\u001b[0m in \u001b[0;36m<module>\u001b[0;34m()\u001b[0m\n\u001b[1;32m      1\u001b[0m \u001b[0mtree\u001b[0m \u001b[0;34m=\u001b[0m \u001b[0mBalanceTree\u001b[0m\u001b[0;34m(\u001b[0m\u001b[0;34m)\u001b[0m\u001b[0;34m\u001b[0m\u001b[0m\n\u001b[1;32m      2\u001b[0m \u001b[0mtree\u001b[0m\u001b[0;34m.\u001b[0m\u001b[0minsert\u001b[0m\u001b[0;34m(\u001b[0m\u001b[0;36m4\u001b[0m\u001b[0;34m)\u001b[0m\u001b[0;34m\u001b[0m\u001b[0m\n\u001b[0;32m----> 3\u001b[0;31m \u001b[0mtree\u001b[0m\u001b[0;34m.\u001b[0m\u001b[0minsert\u001b[0m\u001b[0;34m(\u001b[0m\u001b[0;36m2\u001b[0m\u001b[0;34m)\u001b[0m\u001b[0;34m\u001b[0m\u001b[0m\n\u001b[0m\u001b[1;32m      4\u001b[0m \u001b[0mtree\u001b[0m\u001b[0;34m.\u001b[0m\u001b[0minsert\u001b[0m\u001b[0;34m(\u001b[0m\u001b[0;36m3\u001b[0m\u001b[0;34m)\u001b[0m\u001b[0;34m\u001b[0m\u001b[0m\n\u001b[1;32m      5\u001b[0m \u001b[0mtree\u001b[0m\u001b[0;34m.\u001b[0m\u001b[0mtraverseInOrder\u001b[0m\u001b[0;34m(\u001b[0m\u001b[0;34m)\u001b[0m\u001b[0;34m\u001b[0m\u001b[0m\n",
      "\u001b[0;32m<ipython-input-39-23381b4673f7>\u001b[0m in \u001b[0;36minsert\u001b[0;34m(self, data)\u001b[0m\n\u001b[1;32m     10\u001b[0m         \u001b[0;32melse\u001b[0m\u001b[0;34m:\u001b[0m\u001b[0;34m\u001b[0m\u001b[0m\n\u001b[1;32m     11\u001b[0m             \u001b[0mparentNode\u001b[0m \u001b[0;34m=\u001b[0m \u001b[0mself\u001b[0m\u001b[0;34m.\u001b[0m\u001b[0mrootNode\u001b[0m\u001b[0;34m.\u001b[0m\u001b[0minsert\u001b[0m\u001b[0;34m(\u001b[0m\u001b[0mdata\u001b[0m\u001b[0;34m,\u001b[0m\u001b[0mself\u001b[0m\u001b[0;34m.\u001b[0m\u001b[0mrootNode\u001b[0m\u001b[0;34m)\u001b[0m\u001b[0;34m\u001b[0m\u001b[0m\n\u001b[0;32m---> 12\u001b[0;31m         \u001b[0mself\u001b[0m\u001b[0;34m.\u001b[0m\u001b[0mrebalanceTree\u001b[0m\u001b[0;34m(\u001b[0m\u001b[0mparentNode\u001b[0m\u001b[0;34m)\u001b[0m\u001b[0;34m\u001b[0m\u001b[0m\n\u001b[0m\u001b[1;32m     13\u001b[0m \u001b[0;34m\u001b[0m\u001b[0m\n\u001b[1;32m     14\u001b[0m     \u001b[0;32mdef\u001b[0m \u001b[0mrebalanceTree\u001b[0m\u001b[0;34m(\u001b[0m\u001b[0mself\u001b[0m\u001b[0;34m,\u001b[0m\u001b[0mparentNode\u001b[0m\u001b[0;34m)\u001b[0m\u001b[0;34m:\u001b[0m\u001b[0;34m\u001b[0m\u001b[0m\n",
      "\u001b[0;32m<ipython-input-39-23381b4673f7>\u001b[0m in \u001b[0;36mrebalanceTree\u001b[0;34m(self, parentNode)\u001b[0m\n\u001b[1;32m     18\u001b[0m                 \u001b[0mparentNode\u001b[0m \u001b[0;34m=\u001b[0m \u001b[0mself\u001b[0m\u001b[0;34m.\u001b[0m\u001b[0mrotateRight\u001b[0m\u001b[0;34m(\u001b[0m\u001b[0mparentNode\u001b[0m\u001b[0;34m)\u001b[0m\u001b[0;34m\u001b[0m\u001b[0m\n\u001b[1;32m     19\u001b[0m             \u001b[0;32melse\u001b[0m\u001b[0;34m:\u001b[0m\u001b[0;34m\u001b[0m\u001b[0m\n\u001b[0;32m---> 20\u001b[0;31m                 \u001b[0mparentNode\u001b[0m \u001b[0;34m=\u001b[0m \u001b[0mself\u001b[0m\u001b[0;34m.\u001b[0m\u001b[0mrotateLeftRight\u001b[0m\u001b[0;34m(\u001b[0m\u001b[0mparentNode\u001b[0m\u001b[0;34m)\u001b[0m\u001b[0;34m\u001b[0m\u001b[0m\n\u001b[0m\u001b[1;32m     21\u001b[0m         \u001b[0;32melif\u001b[0m \u001b[0mparentNode\u001b[0m\u001b[0;34m.\u001b[0m\u001b[0mbalance\u001b[0m\u001b[0;34m>\u001b[0m\u001b[0;36m1\u001b[0m\u001b[0;34m:\u001b[0m\u001b[0;34m\u001b[0m\u001b[0m\n\u001b[1;32m     22\u001b[0m             \u001b[0;32mif\u001b[0m \u001b[0mself\u001b[0m\u001b[0;34m.\u001b[0m\u001b[0mheight\u001b[0m\u001b[0;34m(\u001b[0m\u001b[0mparentNode\u001b[0m\u001b[0;34m.\u001b[0m\u001b[0mrightChild\u001b[0m\u001b[0;34m.\u001b[0m\u001b[0mrightChild\u001b[0m\u001b[0;34m)\u001b[0m\u001b[0;34m>\u001b[0m \u001b[0mself\u001b[0m\u001b[0;34m.\u001b[0m\u001b[0mheight\u001b[0m\u001b[0;34m(\u001b[0m\u001b[0mparentNode\u001b[0m\u001b[0;34m.\u001b[0m\u001b[0mrightChild\u001b[0m\u001b[0;34m.\u001b[0m\u001b[0mleftChild\u001b[0m\u001b[0;34m)\u001b[0m\u001b[0;34m:\u001b[0m\u001b[0;34m\u001b[0m\u001b[0m\n",
      "\u001b[0;32m<ipython-input-39-23381b4673f7>\u001b[0m in \u001b[0;36mrotateLeftRight\u001b[0;34m(self, node)\u001b[0m\n\u001b[1;32m     31\u001b[0m     \u001b[0;32mdef\u001b[0m \u001b[0mrotateLeftRight\u001b[0m\u001b[0;34m(\u001b[0m\u001b[0mself\u001b[0m\u001b[0;34m,\u001b[0m\u001b[0mnode\u001b[0m\u001b[0;34m)\u001b[0m\u001b[0;34m:\u001b[0m\u001b[0;34m\u001b[0m\u001b[0m\n\u001b[1;32m     32\u001b[0m         \u001b[0;32mprint\u001b[0m\u001b[0;34m(\u001b[0m\u001b[0;34m\"Rotation Left Right....\"\u001b[0m\u001b[0;34m)\u001b[0m\u001b[0;34m\u001b[0m\u001b[0m\n\u001b[0;32m---> 33\u001b[0;31m         \u001b[0mnode\u001b[0m\u001b[0;34m.\u001b[0m\u001b[0mleftChild\u001b[0m \u001b[0;34m=\u001b[0m \u001b[0mself\u001b[0m\u001b[0;34m.\u001b[0m\u001b[0mrotateLeft\u001b[0m\u001b[0;34m(\u001b[0m\u001b[0mnode\u001b[0m\u001b[0;34m.\u001b[0m\u001b[0mleftChild\u001b[0m\u001b[0;34m)\u001b[0m\u001b[0;34m\u001b[0m\u001b[0m\n\u001b[0m\u001b[1;32m     34\u001b[0m         \u001b[0;32mreturn\u001b[0m \u001b[0mself\u001b[0m\u001b[0;34m.\u001b[0m\u001b[0mrightRotate\u001b[0m\u001b[0;34m(\u001b[0m\u001b[0mnode\u001b[0m\u001b[0;34m)\u001b[0m\u001b[0;34m\u001b[0m\u001b[0m\n\u001b[1;32m     35\u001b[0m \u001b[0;34m\u001b[0m\u001b[0m\n",
      "\u001b[0;32m<ipython-input-39-23381b4673f7>\u001b[0m in \u001b[0;36mrotateLeft\u001b[0;34m(self, node)\u001b[0m\n\u001b[1;32m     42\u001b[0m         \u001b[0;32mprint\u001b[0m\u001b[0;34m(\u001b[0m\u001b[0;34m\"Rotate Left\"\u001b[0m\u001b[0;34m)\u001b[0m\u001b[0;34m\u001b[0m\u001b[0m\n\u001b[1;32m     43\u001b[0m         \u001b[0mb\u001b[0m \u001b[0;34m=\u001b[0m \u001b[0mnode\u001b[0m\u001b[0;34m.\u001b[0m\u001b[0mrightChild\u001b[0m\u001b[0;34m\u001b[0m\u001b[0m\n\u001b[0;32m---> 44\u001b[0;31m         \u001b[0mb\u001b[0m\u001b[0;34m.\u001b[0m\u001b[0mparentNode\u001b[0m \u001b[0;34m=\u001b[0m \u001b[0mnode\u001b[0m\u001b[0;34m.\u001b[0m\u001b[0mparentNode\u001b[0m\u001b[0;34m\u001b[0m\u001b[0m\n\u001b[0m\u001b[1;32m     45\u001b[0m         \u001b[0mnode\u001b[0m\u001b[0;34m.\u001b[0m\u001b[0mrightChild\u001b[0m \u001b[0;34m=\u001b[0m \u001b[0mb\u001b[0m\u001b[0;34m.\u001b[0m\u001b[0mleftChild\u001b[0m\u001b[0;34m\u001b[0m\u001b[0m\n\u001b[1;32m     46\u001b[0m         \u001b[0;32mif\u001b[0m \u001b[0mnode\u001b[0m\u001b[0;34m.\u001b[0m\u001b[0mrightChild\u001b[0m \u001b[0;32mis\u001b[0m \u001b[0;32mnot\u001b[0m \u001b[0mNone\u001b[0m\u001b[0;34m:\u001b[0m\u001b[0;34m\u001b[0m\u001b[0m\n",
      "\u001b[0;31mAttributeError\u001b[0m: 'NoneType' object has no attribute 'parentNode'"
     ]
    }
   ],
   "source": [
    "tree = BalanceTree()\n",
    "tree.insert(4)\n",
    "tree.insert(2)\n",
    "tree.insert(3)\n",
    "tree.traverseInOrder()"
   ]
  }
 ],
 "metadata": {
  "kernelspec": {
   "display_name": "Python 2",
   "language": "python",
   "name": "python2"
  },
  "language_info": {
   "codemirror_mode": {
    "name": "ipython",
    "version": 2
   },
   "file_extension": ".py",
   "mimetype": "text/x-python",
   "name": "python",
   "nbconvert_exporter": "python",
   "pygments_lexer": "ipython2",
   "version": "2.7.14"
  }
 },
 "nbformat": 4,
 "nbformat_minor": 2
}
