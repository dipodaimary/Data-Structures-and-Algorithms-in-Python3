{
 "cells": [
  {
   "cell_type": "code",
   "execution_count": 12,
   "metadata": {},
   "outputs": [],
   "source": [
    "class Node(object):\n",
    "    def __init__(self,character):\n",
    "        self.character = character\n",
    "        self.leftNode = None\n",
    "        self.middleNode = None\n",
    "        self.rightNode = None\n",
    "        self.value = None"
   ]
  },
  {
   "cell_type": "markdown",
   "metadata": {},
   "source": [
    "### TST Implementation "
   ]
  },
  {
   "cell_type": "code",
   "execution_count": 13,
   "metadata": {
    "collapsed": true
   },
   "outputs": [],
   "source": [
    "class TST(object):\n",
    "    def __init__(self):\n",
    "        self.rootNode = None\n",
    "    def put(self,key,value):\n",
    "        self.rootNode = self.putItem(self.rootNode,key,value,0)\n",
    "    def putItem(self,node,key,value,index):\n",
    "        c = key[index]\n",
    "        if node == None:\n",
    "            node = Node(c)\n",
    "        if c<node.character:\n",
    "            node.leftNode = self.putItem(node.leftNode,key,value,index)\n",
    "        elif c>node.character:\n",
    "            node.rightNode = self.putItem(node.rightNode,key,value,index)\n",
    "        elif index<len(key)-1:\n",
    "            node.middleNode = self.putItem(node.middleNode,key,value,index+1)\n",
    "        else:\n",
    "            node.value = value\n",
    "    def get(self,key):\n",
    "        node = self.getItem(self.rootNode,key,0)\n",
    "        if node == None:\n",
    "            return None\n",
    "        return node.value\n",
    "    def getItem(self,node,key,index):\n",
    "        if node == None:\n",
    "            return None\n",
    "        c = key[index]\n",
    "        if c < node.character:\n",
    "            return self.getItem(node.leftNode,key,index)\n",
    "        elif c>node.character:\n",
    "            return self.getItem(node.rightNode,key,index)\n",
    "        elif index<len(key)-1:\n",
    "            return self.getItem(node.middleNode,key,index+1)\n",
    "        else:\n",
    "            return node\n",
    "            "
   ]
  },
  {
   "cell_type": "markdown",
   "metadata": {},
   "source": [
    "### Test "
   ]
  },
  {
   "cell_type": "code",
   "execution_count": 16,
   "metadata": {},
   "outputs": [],
   "source": [
    "tree = TST()\n",
    "tree.put(\"apple\",100)\n",
    "tree.put(\"orange\",200)"
   ]
  }
 ],
 "metadata": {
  "kernelspec": {
   "display_name": "Python 3",
   "language": "python",
   "name": "python3"
  },
  "language_info": {
   "codemirror_mode": {
    "name": "ipython",
    "version": 3
   },
   "file_extension": ".py",
   "mimetype": "text/x-python",
   "name": "python",
   "nbconvert_exporter": "python",
   "pygments_lexer": "ipython3",
   "version": "3.6.3"
  }
 },
 "nbformat": 4,
 "nbformat_minor": 2
}
