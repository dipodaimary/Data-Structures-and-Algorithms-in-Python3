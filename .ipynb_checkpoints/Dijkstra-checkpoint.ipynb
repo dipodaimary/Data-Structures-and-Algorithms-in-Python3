{
 "cells": [
  {
   "cell_type": "markdown",
   "metadata": {},
   "source": [
    "### Vertex "
   ]
  },
  {
   "cell_type": "code",
   "execution_count": 21,
   "metadata": {
    "collapsed": true
   },
   "outputs": [],
   "source": [
    "import sys\n",
    "class Vertex(object):\n",
    "    def __init__(self,name):\n",
    "        self.name = name\n",
    "        self.visited = False\n",
    "        self.predecessor = None\n",
    "        self.adjacencyList = []\n",
    "        self.minDistance = sys.maxsize\n",
    "        \n",
    "    def __cmp__(self,othervertex):\n",
    "        return self.cmp(self.minDistance,otherVertex.minDistance)\n",
    "    \n",
    "    def __lt__(self,other):\n",
    "        selfPriority = self.minDistance\n",
    "        otherPriority = other.minDistance\n",
    "        return selfPriority<otherPriority"
   ]
  },
  {
   "cell_type": "markdown",
   "metadata": {},
   "source": [
    "### Edge "
   ]
  },
  {
   "cell_type": "code",
   "execution_count": 22,
   "metadata": {
    "collapsed": true
   },
   "outputs": [],
   "source": [
    "class Edge(object):\n",
    "    def __init__(self,weight,startVertex,targetVertex):\n",
    "        self.weight = weight\n",
    "        self.startVertex = startVertex\n",
    "        self.targetVertex = targetVertex"
   ]
  },
  {
   "cell_type": "markdown",
   "metadata": {},
   "source": [
    "### Algorithm "
   ]
  },
  {
   "cell_type": "code",
   "execution_count": 23,
   "metadata": {
    "collapsed": true
   },
   "outputs": [],
   "source": [
    "import heapq\n",
    "class Dijkstra(object):\n",
    "    def calculateShortestPath(self,vertexList,startVertex):\n",
    "        queue = []\n",
    "        startVertex.minDistance = 0\n",
    "        heapq.heappush(queue,startVertex)\n",
    "        \n",
    "        while len(queue)>0:\n",
    "            actualVertex = heapq.heappop(queue)\n",
    "            for edge in actualVertex.adjacencyList:\n",
    "                u = edge.startVertex\n",
    "                v = edge.targetVertex\n",
    "                newDistance = u.minDistance + edge.weight\n",
    "                if newDistance < v.minDistance:\n",
    "                    v.predecessor = u\n",
    "                    v.minDistance = newDistance\n",
    "                    heapq.heappush(queue,v)\n",
    "                    \n",
    "    def getShortestPath(self,targetVertex):\n",
    "        print(\"Shortest path to target is: \",targetVertex.minDistance)\n",
    "        node = targetVertex\n",
    "        while node is not None:\n",
    "            print(\"%s -> \"%node.name)\n",
    "            node = node.predecessor"
   ]
  },
  {
   "cell_type": "markdown",
   "metadata": {},
   "source": [
    "### Test "
   ]
  },
  {
   "cell_type": "code",
   "execution_count": 20,
   "metadata": {},
   "outputs": [
    {
     "name": "stdout",
     "output_type": "stream",
     "text": [
      "Shortest path to target is:  0.1\n",
      "C -> \n",
      "A -> \n"
     ]
    }
   ],
   "source": [
    "node1 = Vertex(\"A\")\n",
    "node2 = Vertex(\"B\")\n",
    "node3 = Vertex(\"C\")\n",
    "\n",
    "edge1 = Edge(1,node1,node2)\n",
    "edge2 = Edge(1,node2,node3)\n",
    "edge3 = Edge(0.1,node1,node3)\n",
    "\n",
    "node1.adjacencyList.append(edge1)\n",
    "node1.adjacencyList.append(edge2)\n",
    "node2.adjacencyList.append(edge3)\n",
    "vertexList = {node1,node2,node3}\n",
    "Algorithm = Dijkstra()\n",
    "Algorithm.calculateShortestPath(vertexList,node1)\n",
    "Algorithm.getShortestPath(node3)"
   ]
  }
 ],
 "metadata": {
  "kernelspec": {
   "display_name": "Python 3",
   "language": "python",
   "name": "python3"
  },
  "language_info": {
   "codemirror_mode": {
    "name": "ipython",
    "version": 3
   },
   "file_extension": ".py",
   "mimetype": "text/x-python",
   "name": "python",
   "nbconvert_exporter": "python",
   "pygments_lexer": "ipython3",
   "version": "3.6.3"
  }
 },
 "nbformat": 4,
 "nbformat_minor": 2
}
