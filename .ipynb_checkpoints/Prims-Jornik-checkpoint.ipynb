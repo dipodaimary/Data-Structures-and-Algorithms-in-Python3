{
 "cells": [
  {
   "cell_type": "markdown",
   "metadata": {},
   "source": [
    "### Vertex "
   ]
  },
  {
   "cell_type": "code",
   "execution_count": 2,
   "metadata": {
    "collapsed": true
   },
   "outputs": [],
   "source": [
    "class Vertex(object):\n",
    "    def __init__(self,name):\n",
    "        self.name = name\n",
    "        self.visited = False\n",
    "        self.predecessor = None\n",
    "        self.adjacencyList = []"
   ]
  },
  {
   "cell_type": "markdown",
   "metadata": {},
   "source": [
    "### Edge "
   ]
  },
  {
   "cell_type": "code",
   "execution_count": 12,
   "metadata": {},
   "outputs": [],
   "source": [
    "class Edge(object):\n",
    "    def __init__(self,weight,startVertex,targetVertex):\n",
    "        self.weight = weight\n",
    "        self.startVertex = startVertex\n",
    "        self.targetVertex = targetVertex\n",
    "    def __cmp__(self,otherEdge):\n",
    "        return self.cmp(self.weight,otherEdge.weight)\n",
    "    def __lt__(self,other):\n",
    "        return self.weight < other.weight"
   ]
  },
  {
   "cell_type": "markdown",
   "metadata": {},
   "source": [
    "### Algorithm"
   ]
  },
  {
   "cell_type": "code",
   "execution_count": 26,
   "metadata": {},
   "outputs": [],
   "source": [
    "import heapq\n",
    "class Algorithm(object):\n",
    "    def __init__(self,unvisitedList):\n",
    "        self.unvisitedList = unvisitedList\n",
    "        self.spanningTree = []\n",
    "        self.edgeHeap = []\n",
    "        self.fullCost = 0\n",
    "    def constructSpanningTree(self,vertex):\n",
    "        self.unvisitedList.remove(vertex)\n",
    "        while self.unvisitedList:\n",
    "            for edge in vertex.adjacencyList:\n",
    "                if edge.targetVertex in self.unvisitedList:\n",
    "                    heapq.heappush(self.edgeHeap,edge)\n",
    "            minEdge = heapq.heappop(self.edgeHeap)\n",
    "            self.spanningTree.append(minEdge)\n",
    "            print(\"Edge added to spanning tree: %s - %s\" % (minEdge.startVertex.name,minEdge.targetVertex.name))\n",
    "            self.fullCost+=minEdge.weight\n",
    "            vertex = minEdge.targetVertex\n",
    "            self.unvisitedList.remove(vertex)\n",
    "    def getSpanningTree(self):\n",
    "        return self.spanningTree"
   ]
  },
  {
   "cell_type": "markdown",
   "metadata": {},
   "source": [
    "### App "
   ]
  },
  {
   "cell_type": "code",
   "execution_count": 27,
   "metadata": {},
   "outputs": [
    {
     "name": "stdout",
     "output_type": "stream",
     "text": [
      "Edge added to spanning tree: 1 - 4\n",
      "Edge added to spanning tree: 1 - 3\n",
      "Edge added to spanning tree: 1 - 2\n"
     ]
    }
   ],
   "source": [
    "node1 = Vertex(\"1\")\n",
    "node2 = Vertex(\"2\")\n",
    "node3 = Vertex(\"3\")\n",
    "node4 = Vertex(\"4\")\n",
    "\n",
    "edge1 = Edge(1,node1,node2)\n",
    "edge2 = Edge(1,node1,node3)\n",
    "edge3 = Edge(0.01,node1,node4)\n",
    "edge4 = Edge(1,node3,node4)\n",
    "\n",
    "node1.adjacencyList.append(edge1)\n",
    "node1.adjacencyList.append(edge2)\n",
    "node1.adjacencyList.append(edge3)\n",
    "node3.adjacencyList.append(edge4)\n",
    "\n",
    "unvisitedList = []\n",
    "unvisitedList.append(node1)\n",
    "unvisitedList.append(node2)\n",
    "unvisitedList.append(node3)\n",
    "unvisitedList.append(node4)\n",
    "\n",
    "algorithm = Algorithm(unvisitedList)\n",
    "algorithm.constructSpanningTree(node1)"
   ]
  }
 ],
 "metadata": {
  "kernelspec": {
   "display_name": "Python 3",
   "language": "python",
   "name": "python3"
  },
  "language_info": {
   "codemirror_mode": {
    "name": "ipython",
    "version": 3
   },
   "file_extension": ".py",
   "mimetype": "text/x-python",
   "name": "python",
   "nbconvert_exporter": "python",
   "pygments_lexer": "ipython3",
   "version": "3.6.3"
  }
 },
 "nbformat": 4,
 "nbformat_minor": 2
}
