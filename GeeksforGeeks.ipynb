{
 "cells": [
  {
   "cell_type": "markdown",
   "metadata": {},
   "source": [
    "# Find common elements in three sorted arrays Given three arrays sorted in non-decreasing order, print all common elements in these arrays.\n",
    "\n",
    "Examples:\n",
    "\n",
    "ar1[] = {1, 5, 10, 20, 40, 80}\n",
    "ar2[] = {6, 7, 20, 80, 100}\n",
    "ar3[] = {3, 4, 15, 20, 30, 70, 80, 120}\n",
    "Output: 20, 80\n",
    "\n",
    "ar1[] = {1, 5, 5}\n",
    "ar2[] = {3, 4, 5, 5, 10}\n",
    "ar3[] = {5, 5, 10, 20}\n",
    "Output: 5, 5"
   ]
  },
  {
   "cell_type": "code",
   "execution_count": 2,
   "metadata": {},
   "outputs": [
    {
     "ename": "SyntaxError",
     "evalue": "Missing parentheses in call to 'print'. Did you mean print(print ar1[i], end=\" \")? (<ipython-input-2-3a845e1f9a66>, line 13)",
     "output_type": "error",
     "traceback": [
      "\u001b[0;36m  File \u001b[0;32m\"<ipython-input-2-3a845e1f9a66>\"\u001b[0;36m, line \u001b[0;32m13\u001b[0m\n\u001b[0;31m    print ar1[i],\u001b[0m\n\u001b[0m            ^\u001b[0m\n\u001b[0;31mSyntaxError\u001b[0m\u001b[0;31m:\u001b[0m Missing parentheses in call to 'print'. Did you mean print(print ar1[i], end=\" \")?\n"
     ]
    }
   ],
   "source": [
    "#Python function to print common elements in three sorted arrays\n",
    "def findCommon(ar1, ar2, ar3, n1, n2, n3):\n",
    "     \n",
    "    # Initialize starting indexes for ar1[], ar2[] and ar3[]\n",
    "    i, j, k = 0, 0, 0\n",
    "     \n",
    "    # Iterate through three arrays while all arrays have elements    \n",
    "    while (i < n1 and j < n2 and k< n3):\n",
    "         \n",
    "        # If x = y and y = z, print any of them and move ahead \n",
    "        # in all arrays\n",
    "        if (ar1[i] == ar2[j] and ar2[j] == ar3[k]):\n",
    "            print ar1[i],\n",
    "            i += 1\n",
    "            j += 1\n",
    "            k += 1\n",
    "         \n",
    "        # x < y    \n",
    "        elif ar1[i] < ar2[j]:\n",
    "            i += 1\n",
    "             \n",
    "        # y < z    \n",
    "        elif ar2[j] < ar3[k]:\n",
    "            j += 1\n",
    "         \n",
    "        # We reach here when x > y and z < y, i.e., z is smallest    \n",
    "        else:\n",
    "            k += 1\n",
    " \n",
    "# Driver program to check above function\n",
    "ar1 = [1, 5, 10, 20, 40, 80]\n",
    "ar2 = [6, 7, 20, 80, 100]\n",
    "ar3 = [3, 4, 15, 20, 30, 70, 80, 120]\n",
    "n1 = len(ar1)\n",
    "n2 = len(ar2)\n",
    "n3 = len(ar3)\n",
    "print \"Common elements are\",\n",
    "findCommon(ar1, ar2, ar3, n1, n2, n3)"
   ]
  },
  {
   "cell_type": "code",
   "execution_count": null,
   "metadata": {
    "collapsed": true
   },
   "outputs": [],
   "source": []
  }
 ],
 "metadata": {
  "kernelspec": {
   "display_name": "Python 3",
   "language": "python",
   "name": "python3"
  },
  "language_info": {
   "codemirror_mode": {
    "name": "ipython",
    "version": 3
   },
   "file_extension": ".py",
   "mimetype": "text/x-python",
   "name": "python",
   "nbconvert_exporter": "python",
   "pygments_lexer": "ipython3",
   "version": "3.6.3"
  }
 },
 "nbformat": 4,
 "nbformat_minor": 2
}
