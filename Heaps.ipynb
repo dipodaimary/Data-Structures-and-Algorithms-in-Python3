{
 "cells": [
  {
   "cell_type": "code",
   "execution_count": 4,
   "metadata": {
    "collapsed": true
   },
   "outputs": [],
   "source": [
    "class Heap(object):\n",
    "    HEAP_SIZE = 10\n",
    "    def __init__(self):\n",
    "        self.heap = [0]*Heap.HEAP_SIZE\n",
    "        self.currentPosition = -1\n",
    "    def insert(self,item):\n",
    "        if self.isFull():\n",
    "            print(\"Heap is full\")\n",
    "            return\n",
    "        self.currentPosition = self.currentPosition+1\n",
    "        self.heap[self.currentPosition] = item\n",
    "        self.fixUp(self.currentPosition)\n",
    "    def isFull(self):\n",
    "        if self.currentPosition == Heap.HEAP_SIZE:\n",
    "            return True\n",
    "        else:\n",
    "            return False\n",
    "    def fixUp(self,index):\n",
    "        parentIndex = int((index-1)/2)\n",
    "        while parentIndex>=0 and self.heap[parentIndex]<self.heap[index]:\n",
    "            temp = self.heap[index]\n",
    "            self.heap[index] = self.heap[parentIndex]\n",
    "            self.heap[parentIndex]=temp\n",
    "            index = parentIndex\n",
    "            parentIndex = int((index-1)/2)\n",
    "    def getMax(self):\n",
    "        result = self.heap[0]\n",
    "        self.currentPosition = self.currentPosition-1\n",
    "        self.heap[0] = self.heap[self.currentPosition]\n",
    "        del self.heap[self.currentPosition+1]\n",
    "        self.fixDown(0,-1)\n",
    "        return result\n",
    "    def fixDown(self,index,upto):\n",
    "        if upto<0:\n",
    "            upto = self.currentPosition\n",
    "        while index<=upto:\n",
    "            leftChild = 2*index+1\n",
    "            rightChild = 2*index+2\n",
    "            if leftChild<=upto:\n",
    "                childToSwap = None\n",
    "                if rightChild>upto:\n",
    "                    childToSwap = leftChild\n",
    "                else:\n",
    "                    if self.heap[leftChild]>self.heap[rightChild]:\n",
    "                        childToSwap = leftChild\n",
    "                    else:\n",
    "                        childToSwap = rightChild\n",
    "                if self.heap[index]<self.heap[childToSwap]:\n",
    "                    temp = self.heap[index]\n",
    "                    self.heap[index] = self.heap[childToSwap]\n",
    "                    self.heap[childToSwap] = temp\n",
    "                else:\n",
    "                    break\n",
    "                index = childToSwap\n",
    "            else:\n",
    "                break\n",
    "                \n",
    "    def heapsort(self):\n",
    "        for i in range(0,self.currentPosition+1):\n",
    "            temp = self.heap[0]\n",
    "            print(\"%d \"%temp)\n",
    "            self.heap[0] = self.heap[self.currentPosition-i]\n",
    "            self.heap[self.currentPosition-i] = temp\n",
    "            self.fixDown(0,self.currentPosition-i-1)"
   ]
  },
  {
   "cell_type": "code",
   "execution_count": 7,
   "metadata": {},
   "outputs": [
    {
     "name": "stdout",
     "output_type": "stream",
     "text": [
      "23 \n",
      "12 \n",
      "4 \n",
      "-3 \n"
     ]
    }
   ],
   "source": [
    "heap = Heap()\n",
    "heap.insert(12)\n",
    "heap.insert(-3)\n",
    "heap.insert(23)\n",
    "heap.insert(4)\n",
    "heap.heapsort()"
   ]
  }
 ],
 "metadata": {
  "kernelspec": {
   "display_name": "Python 3",
   "language": "python",
   "name": "python3"
  },
  "language_info": {
   "codemirror_mode": {
    "name": "ipython",
    "version": 3
   },
   "file_extension": ".py",
   "mimetype": "text/x-python",
   "name": "python",
   "nbconvert_exporter": "python",
   "pygments_lexer": "ipython3",
   "version": "3.6.3"
  }
 },
 "nbformat": 4,
 "nbformat_minor": 2
}
