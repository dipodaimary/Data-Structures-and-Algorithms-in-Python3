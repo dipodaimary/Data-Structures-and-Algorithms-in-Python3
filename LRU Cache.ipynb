{
 "cells": [
  {
   "cell_type": "code",
   "execution_count": 1,
   "metadata": {
    "collapsed": true
   },
   "outputs": [],
   "source": [
    "class LRUCache:\n",
    "    def __init__(self, capacity):\n",
    "        self.capacity = capacity\n",
    "        self.tm = 0\n",
    "        self.cache = {}\n",
    "        self.lru = {}\n",
    "\n",
    "    def get(self, key):\n",
    "        if key in self.cache:\n",
    "            self.lru[key] = self.tm\n",
    "            self.tm += 1\n",
    "            return self.cache[key]\n",
    "        return -1\n",
    "\n",
    "    def set(self, key, value):\n",
    "        if len(self.cache) >= self.capacity:\n",
    "            # find the LRU entry\n",
    "            old_key = min(self.lru.keys(), key=lambda k:self.lru[k])\n",
    "            self.cache.pop(old_key)\n",
    "            self.lru.pop(old_key)\n",
    "        self.cache[key] = value\n",
    "        self.lru[key] = self.tm\n",
    "        self.tm += 1"
   ]
  }
 ],
 "metadata": {
  "kernelspec": {
   "display_name": "Python 3",
   "language": "python",
   "name": "python3"
  },
  "language_info": {
   "codemirror_mode": {
    "name": "ipython",
    "version": 3
   },
   "file_extension": ".py",
   "mimetype": "text/x-python",
   "name": "python",
   "nbconvert_exporter": "python",
   "pygments_lexer": "ipython3",
   "version": "3.6.3"
  }
 },
 "nbformat": 4,
 "nbformat_minor": 2
}
