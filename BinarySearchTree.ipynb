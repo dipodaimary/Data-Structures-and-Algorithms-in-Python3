{
 "cells": [
  {
   "cell_type": "markdown",
   "metadata": {},
   "source": [
    "### Node class"
   ]
  },
  {
   "cell_type": "code",
   "execution_count": 24,
   "metadata": {
    "collapsed": true
   },
   "outputs": [],
   "source": [
    "class Node(object):\n",
    "    def __init__(self,data):\n",
    "        self.data = data\n",
    "        self.leftChild = None\n",
    "        self.rightChild = None\n",
    "\n",
    "    def insert(self,data):\n",
    "        if data<self.data:\n",
    "            if not self.leftChild:\n",
    "                self.leftChild = Node(data)\n",
    "            else:\n",
    "                self.leftChild.insert(data)\n",
    "        else:\n",
    "            if not self.rightChild:\n",
    "                self.rightChild = Node(data)\n",
    "            else:\n",
    "                self.rightChild.insert(data)\n",
    "\n",
    "    def remove(self,data,parentNode):\n",
    "        if data<self.data:\n",
    "            if self.leftChild is not None:\n",
    "                self.leftChild.remove(data,self)\n",
    "        elif data>self.data:\n",
    "            if self.rightChild is not None:\n",
    "                self.rightChild.remove(data,self)\n",
    "        else:\n",
    "            if self.leftChild is not None and self.rightChild is not None:\n",
    "                self.data = self.rightChild.getMin()\n",
    "                self.rightChild.remove(self.data,self)\n",
    "            elif parentNode.leftChild == self:\n",
    "                if self.leftChild is not None:\n",
    "                    tempNode = self.leftChild\n",
    "                else:\n",
    "                    tempNode = self.rightChild\n",
    "                parentNode.leftChild = tempNode\n",
    "\n",
    "            elif parentNode.rightChild == self:\n",
    "                if self.leftChild is not None:\n",
    "                    tempNode = self.leftChild\n",
    "                else:\n",
    "                    tempNode = self.rightChild\n",
    "                parentNode.rightChild = tempNode\n",
    "\n",
    "\n",
    "\n",
    "    def getMin(self):\n",
    "        if self.leftChild is None:\n",
    "            return self.data\n",
    "        else:\n",
    "            return self.leftChild.getMin()\n",
    "\n",
    "\n",
    "    def getMax(self):\n",
    "        if self.rightChild is None:\n",
    "            return self.data\n",
    "        else:\n",
    "            return self.rightChild.getMax()\n",
    "\n",
    "    def traverseInOrder(self):\n",
    "        if self.leftChild is not None:\n",
    "            self.leftChild.traverseInOrder()\n",
    "        print(self.data)\n",
    "        if self.rightChild is not None:\n",
    "            self.rightChild.traverseInOrder()\n",
    "\n"
   ]
  },
  {
   "cell_type": "markdown",
   "metadata": {},
   "source": [
    "### Tree Implementation"
   ]
  },
  {
   "cell_type": "code",
   "execution_count": 25,
   "metadata": {},
   "outputs": [],
   "source": [
    "class BST(object):\n",
    "    def __init__(self):\n",
    "        self.rootNode = None\n",
    "\n",
    "    def insert(self,data):\n",
    "        if not self.rootNode:\n",
    "            self.rootNode = Node(data)\n",
    "        else:\n",
    "            self.rootNode.insert(data)\n",
    "\n",
    "    def remove(self,dataToRemove):\n",
    "        if self.rootNode:\n",
    "            if self.rootNode.data == dataToRemove:\n",
    "                tempNode = None(None)\n",
    "                tempNode.leftChild = self.rootNode\n",
    "                self.rootNode.remove(dataToRemove,tempNode)\n",
    "            else:\n",
    "                self.rootNode.remove(dataToRemove,None)\n",
    "\n",
    "\n",
    "    def getMax(self):\n",
    "        if self.rootNode:\n",
    "            return self.rootNode.getMax()\n",
    "\n",
    "    def getMin(self):\n",
    "        if self.rootNode:\n",
    "            return self.rootNode.getMin()\n",
    "\n",
    "    def traverseInOrder(self):\n",
    "        if self.rootNode:\n",
    "            self.rootNode.traverseInOrder()"
   ]
  },
  {
   "cell_type": "markdown",
   "metadata": {},
   "source": [
    "### Test "
   ]
  },
  {
   "cell_type": "code",
   "execution_count": 27,
   "metadata": {},
   "outputs": [
    {
     "name": "stdout",
     "output_type": "stream",
     "text": [
      "-2\n",
      "1\n",
      "10\n",
      "12\n",
      "-2\n",
      "1\n",
      "12\n",
      "12\n",
      "-2\n"
     ]
    }
   ],
   "source": [
    "    bst = BST()\n",
    "\n",
    "    bst.insert(12)\n",
    "    bst.insert(10)\n",
    "    bst.insert(-2)\n",
    "    bst.insert(1)\n",
    "\n",
    "    bst.traverseInOrder()\n",
    "    bst.remove(10)\n",
    "    bst.traverseInOrder()\n",
    "\n",
    "    print(bst.getMax())\n",
    "    print(bst.getMin())\n"
   ]
  },
  {
   "cell_type": "code",
   "execution_count": null,
   "metadata": {
    "collapsed": true
   },
   "outputs": [],
   "source": []
  }
 ],
 "metadata": {
  "kernelspec": {
   "display_name": "Python 3",
   "language": "python",
   "name": "python3"
  },
  "language_info": {
   "codemirror_mode": {
    "name": "ipython",
    "version": 3
   },
   "file_extension": ".py",
   "mimetype": "text/x-python",
   "name": "python",
   "nbconvert_exporter": "python",
   "pygments_lexer": "ipython3",
   "version": "3.6.3"
  }
 },
 "nbformat": 4,
 "nbformat_minor": 2
}
