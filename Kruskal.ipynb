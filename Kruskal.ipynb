{
 "cells": [
  {
   "cell_type": "markdown",
   "metadata": {},
   "source": [
    "### Vertex"
   ]
  },
  {
   "cell_type": "code",
   "execution_count": 1,
   "metadata": {
    "collapsed": true
   },
   "outputs": [],
   "source": [
    "class Vertex(object):\n",
    "    def __init__(self,name):\n",
    "        self.name = name\n",
    "        self.node = None"
   ]
  },
  {
   "cell_type": "markdown",
   "metadata": {},
   "source": [
    "### Node "
   ]
  },
  {
   "cell_type": "code",
   "execution_count": 2,
   "metadata": {
    "collapsed": true
   },
   "outputs": [],
   "source": [
    "class Node(object):\n",
    "    def __init__(self,height,nodeId,parentNode):\n",
    "        self.height = height\n",
    "        self.nodeId = nodeId\n",
    "        self.parentNode = parentNode"
   ]
  },
  {
   "cell_type": "markdown",
   "metadata": {},
   "source": [
    "### Edge "
   ]
  },
  {
   "cell_type": "code",
   "execution_count": 16,
   "metadata": {
    "collapsed": true
   },
   "outputs": [],
   "source": [
    "class Edge(object):\n",
    "    def __init__(self,weight,startVertex,targetVertex):\n",
    "        self.weight = weight\n",
    "        self.startVertex = startVertex\n",
    "        self.targetVertex = targetVertex\n",
    "    def __cmp__(self,otherEdge):\n",
    "        return self.cmp(self.weight,otherEdge.weight)\n",
    "    \n",
    "    def __lt__(self,other):\n",
    "        selfPriority = self.weight\n",
    "        otherPriority = other.weight\n",
    "        return selfPriority < otherPriority"
   ]
  },
  {
   "cell_type": "markdown",
   "metadata": {},
   "source": [
    "### DisjointSet "
   ]
  },
  {
   "cell_type": "code",
   "execution_count": 17,
   "metadata": {
    "collapsed": true
   },
   "outputs": [],
   "source": [
    "class DisjointSet(object):\n",
    "    def __init__(self,vertexList):\n",
    "        self.vertexList = vertexList\n",
    "        self.rootNodes = []\n",
    "        self.nodeCount = 0\n",
    "        self.setCount = 0\n",
    "        self.makeSets(vertexList)\n",
    "        \n",
    "    def makeSets(self,vertexList):\n",
    "        for v in vertexList:\n",
    "            self.makeSet(v)\n",
    "    def makeSet(self,vertex):\n",
    "        node = Node(0,len(self.rootNodes),None)\n",
    "        vertex.parentNode = node\n",
    "        self.rootNodes.append(node)\n",
    "        self.setCount+=1\n",
    "        self.nodeCount+=1\n",
    "    \n",
    "    def find(self,node):\n",
    "        currentNode = node\n",
    "        while currentNode.parentNode is not None:\n",
    "            currentNode = currentNode.parentNode\n",
    "        root = currentNode\n",
    "        currentNode = node\n",
    "        while currentNode is not root:\n",
    "            temp = currentNode.parentNode\n",
    "            currentNode.parentNode = root #path compression\n",
    "            currentNode = temp\n",
    "        return root.nodeId\n",
    "    \n",
    "    def union(self,node1,node2):\n",
    "        index1 = self.find(node1)\n",
    "        index2 = self.find(node2)\n",
    "        if index1==index2:\n",
    "            return\n",
    "        root1 = self.rootNodes[index1]\n",
    "        root2 = self.rootNodes[index2]\n",
    "        if root1.height<root2.height:\n",
    "            root1.parentNode = root2\n",
    "        elif root1.height>root2.height:\n",
    "            root2.parentNode = root1\n",
    "        else:\n",
    "            root2.parentNode = root1\n",
    "            root1.height +=1\n",
    "        self.setCount-=1"
   ]
  },
  {
   "cell_type": "markdown",
   "metadata": {},
   "source": [
    "### Algorithm "
   ]
  },
  {
   "cell_type": "code",
   "execution_count": 18,
   "metadata": {
    "collapsed": true
   },
   "outputs": [],
   "source": [
    "class Algorithm(object):\n",
    "    def constructSpanningTree(self,vertexList,edgeList):\n",
    "        disjointSet = DisjointSet(vertexList)\n",
    "        spanningTree = []\n",
    "        edgeList.sort()\n",
    "        for edge in edgeList:\n",
    "            u = edge.startVertex\n",
    "            v = edge.targetVertex\n",
    "            if disjointSet.find(u.parentNode) is not disjointSet.find(v.parentNode):\n",
    "                spanningTree.append(edge)\n",
    "                disjointSet.union(u.parentNode,v.parentNode)\n",
    "        for edge in spanningTree:\n",
    "            print(edge.startVertex.name,\" - \",edge.targetVertex.name)"
   ]
  },
  {
   "cell_type": "markdown",
   "metadata": {},
   "source": [
    "### Test "
   ]
  },
  {
   "cell_type": "code",
   "execution_count": 1,
   "metadata": {},
   "outputs": [
    {
     "ename": "NameError",
     "evalue": "name 'Vertex' is not defined",
     "output_type": "error",
     "traceback": [
      "\u001b[0;31m---------------------------------------------------------------------------\u001b[0m",
      "\u001b[0;31mNameError\u001b[0m                                 Traceback (most recent call last)",
      "\u001b[0;32m<ipython-input-1-d5b85ac44a8d>\u001b[0m in \u001b[0;36m<module>\u001b[0;34m()\u001b[0m\n\u001b[0;32m----> 1\u001b[0;31m \u001b[0mvertex1\u001b[0m \u001b[0;34m=\u001b[0m \u001b[0mVertex\u001b[0m\u001b[0;34m(\u001b[0m\u001b[0;34m\"a\"\u001b[0m\u001b[0;34m)\u001b[0m\u001b[0;34m\u001b[0m\u001b[0m\n\u001b[0m\u001b[1;32m      2\u001b[0m \u001b[0mvertex2\u001b[0m \u001b[0;34m=\u001b[0m \u001b[0mVertex\u001b[0m\u001b[0;34m(\u001b[0m\u001b[0;34m\"b\"\u001b[0m\u001b[0;34m)\u001b[0m\u001b[0;34m\u001b[0m\u001b[0m\n\u001b[1;32m      3\u001b[0m \u001b[0mvertex3\u001b[0m \u001b[0;34m=\u001b[0m \u001b[0mVertex\u001b[0m\u001b[0;34m(\u001b[0m\u001b[0;34m\"c\"\u001b[0m\u001b[0;34m)\u001b[0m\u001b[0;34m\u001b[0m\u001b[0m\n\u001b[1;32m      4\u001b[0m \u001b[0mvertex4\u001b[0m \u001b[0;34m=\u001b[0m \u001b[0mVertex\u001b[0m\u001b[0;34m(\u001b[0m\u001b[0;34m\"d\"\u001b[0m\u001b[0;34m)\u001b[0m\u001b[0;34m\u001b[0m\u001b[0m\n\u001b[1;32m      5\u001b[0m \u001b[0mvertex5\u001b[0m \u001b[0;34m=\u001b[0m \u001b[0mVertex\u001b[0m\u001b[0;34m(\u001b[0m\u001b[0;34m\"e\"\u001b[0m\u001b[0;34m)\u001b[0m\u001b[0;34m\u001b[0m\u001b[0m\n",
      "\u001b[0;31mNameError\u001b[0m: name 'Vertex' is not defined"
     ]
    }
   ],
   "source": [
    "vertex1 = Vertex(\"a\")\n",
    "vertex2 = Vertex(\"b\")\n",
    "vertex3 = Vertex(\"c\")\n",
    "vertex4 = Vertex(\"d\")\n",
    "vertex5 = Vertex(\"e\")\n",
    "vertex6 = Vertex(\"f\")\n",
    "\n",
    "edge1 = Edge(2,vertex1,vertex2)\n",
    "edge2 = Edge(4,vertex1,vertex4)\n",
    "edge3 = Edge(4,vertex2,vertex3)\n",
    "edge4 = Edge(4,vertex2,vertex4)\n",
    "edge5 = Edge(3,vertex2,vertex5)\n",
    "edge6 = Edge(1,vertex2,vertex6)\n",
    "edge7 = Edge(5,vertex3,vertex6)\n",
    "edge8 = Edge(2,vertex4,vertex5)\n",
    "edge9 = Edge(5,vertex5,vertex6)\n",
    "\n",
    "vertexList = []\n",
    "vertexList.append(vertex1)\n",
    "vertexList.append(vertex2)\n",
    "vertexList.append(vertex3)\n",
    "vertexList.append(vertex4)\n",
    "vertexList.append(vertex5)\n",
    "vertexList.append(vertex6)\n",
    "\n",
    "edgeList = []\n",
    "edgeList.append(edge1)\n",
    "edgeList.append(edge2)\n",
    "edgeList.append(edge3)\n",
    "edgeList.append(edge4)\n",
    "edgeList.append(edge5)\n",
    "edgeList.append(edge6)\n",
    "edgeList.append(edge7)\n",
    "edgeList.append(edge8)\n",
    "edgeList.append(edge9)\n",
    "\n",
    "algorithm = Algorithm()\n",
    "algorithm.constructSpanningTree(vertexList,edgeList)"
   ]
  },
  {
   "cell_type": "markdown",
   "metadata": {},
   "source": [
    "### Alternatively "
   ]
  },
  {
   "cell_type": "code",
   "execution_count": 2,
   "metadata": {},
   "outputs": [
    {
     "ename": "SyntaxError",
     "evalue": "Missing parentheses in call to 'print'. Did you mean print(print \"Following are the edges in the constructed MST\")? (<ipython-input-2-19a2e1bb3120>, line 88)",
     "output_type": "error",
     "traceback": [
      "\u001b[0;36m  File \u001b[0;32m\"<ipython-input-2-19a2e1bb3120>\"\u001b[0;36m, line \u001b[0;32m88\u001b[0m\n\u001b[0;31m    print \"Following are the edges in the constructed MST\"\u001b[0m\n\u001b[0m                                                         ^\u001b[0m\n\u001b[0;31mSyntaxError\u001b[0m\u001b[0;31m:\u001b[0m Missing parentheses in call to 'print'. Did you mean print(print \"Following are the edges in the constructed MST\")?\n"
     ]
    }
   ],
   "source": [
    "# Python program for Kruskal's algorithm to find\n",
    "# Minimum Spanning Tree of a given connected, \n",
    "# undirected and weighted graph\n",
    " \n",
    "from collections import defaultdict\n",
    " \n",
    "#Class to represent a graph\n",
    "class Graph:\n",
    " \n",
    "    def __init__(self,vertices):\n",
    "        self.V= vertices #No. of vertices\n",
    "        self.graph = [] # default dictionary \n",
    "                                # to store graph\n",
    "         \n",
    "  \n",
    "    # function to add an edge to graph\n",
    "    def addEdge(self,u,v,w):\n",
    "        self.graph.append([u,v,w])\n",
    " \n",
    "    # A utility function to find set of an element i\n",
    "    # (uses path compression technique)\n",
    "    def find(self, parent, i):\n",
    "        if parent[i] == i:\n",
    "            return i\n",
    "        return self.find(parent, parent[i])\n",
    " \n",
    "    # A function that does union of two sets of x and y\n",
    "    # (uses union by rank)\n",
    "    def union(self, parent, rank, x, y):\n",
    "        xroot = self.find(parent, x)\n",
    "        yroot = self.find(parent, y)\n",
    " \n",
    "        # Attach smaller rank tree under root of \n",
    "        # high rank tree (Union by Rank)\n",
    "        if rank[xroot] < rank[yroot]:\n",
    "            parent[xroot] = yroot\n",
    "        elif rank[xroot] > rank[yroot]:\n",
    "            parent[yroot] = xroot\n",
    " \n",
    "        # If ranks are same, then make one as root \n",
    "        # and increment its rank by one\n",
    "        else :\n",
    "            parent[yroot] = xroot\n",
    "            rank[xroot] += 1\n",
    " \n",
    "    # The main function to construct MST using Kruskal's \n",
    "        # algorithm\n",
    "    def KruskalMST(self):\n",
    " \n",
    "        result =[] #This will store the resultant MST\n",
    " \n",
    "        i = 0 # An index variable, used for sorted edges\n",
    "        e = 0 # An index variable, used for result[]\n",
    " \n",
    "            # Step 1:  Sort all the edges in non-decreasing \n",
    "                # order of their\n",
    "                # weight.  If we are not allowed to change the \n",
    "                # given graph, we can create a copy of graph\n",
    "        self.graph =  sorted(self.graph,key=lambda item: item[2])\n",
    " \n",
    "        parent = [] ; rank = []\n",
    " \n",
    "        # Create V subsets with single elements\n",
    "        for node in range(self.V):\n",
    "            parent.append(node)\n",
    "            rank.append(0)\n",
    "     \n",
    "        # Number of edges to be taken is equal to V-1\n",
    "        while e < self.V -1 :\n",
    " \n",
    "            # Step 2: Pick the smallest edge and increment \n",
    "                    # the index for next iteration\n",
    "            u,v,w =  self.graph[i]\n",
    "            i = i + 1\n",
    "            x = self.find(parent, u)\n",
    "            y = self.find(parent ,v)\n",
    " \n",
    "            # If including this edge does't cause cycle, \n",
    "                        # include it in result and increment the index\n",
    "                        # of result for next edge\n",
    "            if x != y:\n",
    "                e = e + 1    \n",
    "                result.append([u,v,w])\n",
    "                self.union(parent, rank, x, y)            \n",
    "            # Else discard the edge\n",
    " \n",
    "        # print the contents of result[] to display the built MST\n",
    "        print \"Following are the edges in the constructed MST\"\n",
    "        for u,v,weight  in result:\n",
    "            #print str(u) + \" -- \" + str(v) + \" == \" + str(weight)\n",
    "            print (\"%d -- %d == %d\" % (u,v,weight))\n",
    " \n",
    "# Driver code\n",
    "g = Graph(4)\n",
    "g.addEdge(0, 1, 10)\n",
    "g.addEdge(0, 2, 6)\n",
    "g.addEdge(0, 3, 5)\n",
    "g.addEdge(1, 3, 15)\n",
    "g.addEdge(2, 3, 4)\n",
    " \n",
    "g.KruskalMST()"
   ]
  },
  {
   "cell_type": "code",
   "execution_count": null,
   "metadata": {
    "collapsed": true
   },
   "outputs": [],
   "source": []
  }
 ],
 "metadata": {
  "kernelspec": {
   "display_name": "Python 3",
   "language": "python",
   "name": "python3"
  }
 },
 "nbformat": 4,
 "nbformat_minor": 2
}
