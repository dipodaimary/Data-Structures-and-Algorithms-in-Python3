{
 "cells": [
  {
   "cell_type": "markdown",
   "metadata": {},
   "source": [
    "### Vertex"
   ]
  },
  {
   "cell_type": "code",
   "execution_count": 1,
   "metadata": {
    "collapsed": true
   },
   "outputs": [],
   "source": [
    "class Vertex(object):\n",
    "    def __init__(self,name):\n",
    "        self.name = name\n",
    "        self.node = None"
   ]
  },
  {
   "cell_type": "markdown",
   "metadata": {},
   "source": [
    "### Node "
   ]
  },
  {
   "cell_type": "code",
   "execution_count": 2,
   "metadata": {
    "collapsed": true
   },
   "outputs": [],
   "source": [
    "class Node(object):\n",
    "    def __init__(self,height,nodeId,parentNode):\n",
    "        self.height = height\n",
    "        self.nodeId = nodeId\n",
    "        self.parentNode = parentNode"
   ]
  },
  {
   "cell_type": "markdown",
   "metadata": {},
   "source": [
    "### Edge "
   ]
  },
  {
   "cell_type": "code",
   "execution_count": 16,
   "metadata": {},
   "outputs": [],
   "source": [
    "class Edge(object):\n",
    "    def __init__(self,weight,startVertex,targetVertex):\n",
    "        self.weight = weight\n",
    "        self.startVertex = startVertex\n",
    "        self.targetVertex = targetVertex\n",
    "    def __cmp__(self,otherEdge):\n",
    "        return self.cmp(self.weight,otherEdge.weight)\n",
    "    \n",
    "    def __lt__(self,other):\n",
    "        selfPriority = self.weight\n",
    "        otherPriority = other.weight\n",
    "        return selfPriority < otherPriority"
   ]
  },
  {
   "cell_type": "markdown",
   "metadata": {},
   "source": [
    "### DisjointSet "
   ]
  },
  {
   "cell_type": "code",
   "execution_count": 17,
   "metadata": {
    "collapsed": true
   },
   "outputs": [],
   "source": [
    "class DisjointSet(object):\n",
    "    def __init__(self,vertexList):\n",
    "        self.vertexList = vertexList\n",
    "        self.rootNodes = []\n",
    "        self.nodeCount = 0\n",
    "        self.setCount = 0\n",
    "        self.makeSets(vertexList)\n",
    "        \n",
    "    def makeSets(self,vertexList):\n",
    "        for v in vertexList:\n",
    "            self.makeSet(v)\n",
    "    def makeSet(self,vertex):\n",
    "        node = Node(0,len(self.rootNodes),None)\n",
    "        vertex.parentNode = node\n",
    "        self.rootNodes.append(node)\n",
    "        self.setCount+=1\n",
    "        self.nodeCount+=1\n",
    "    \n",
    "    def find(self,node):\n",
    "        currentNode = node\n",
    "        while currentNode.parentNode is not None:\n",
    "            currentNode = currentNode.parentNode\n",
    "        root = currentNode\n",
    "        currentNode = node\n",
    "        while currentNode is not root:\n",
    "            temp = currentNode.parentNode\n",
    "            currentNode.parentNode = root #path compression\n",
    "            currentNode = temp\n",
    "        return root.nodeId\n",
    "    \n",
    "    def union(self,node1,node2):\n",
    "        index1 = self.find(node1)\n",
    "        index2 = self.find(node2)\n",
    "        if index1==index2:\n",
    "            return\n",
    "        root1 = self.rootNodes[index1]\n",
    "        root2 = self.rootNodes[index2]\n",
    "        if root1.height<root2.height:\n",
    "            root1.parentNode = root2\n",
    "        elif root1.height>root2.height:\n",
    "            root2.parentNode = root1\n",
    "        else:\n",
    "            root2.parentNode = root1\n",
    "            root1.height +=1\n",
    "        self.setCount-=1"
   ]
  },
  {
   "cell_type": "markdown",
   "metadata": {},
   "source": [
    "### Algorithm "
   ]
  },
  {
   "cell_type": "code",
   "execution_count": 18,
   "metadata": {
    "collapsed": true
   },
   "outputs": [],
   "source": [
    "class Algorithm(object):\n",
    "    def constructSpanningTree(self,vertexList,edgeList):\n",
    "        disjointSet = DisjointSet(vertexList)\n",
    "        spanningTree = []\n",
    "        edgeList.sort()\n",
    "        for edge in edgeList:\n",
    "            u = edge.startVertex\n",
    "            v = edge.targetVertex\n",
    "            if disjointSet.find(u.parentNode) is not disjointSet.find(v.parentNode):\n",
    "                spanningTree.append(edge)\n",
    "                disjointSet.union(u.parentNode,v.parentNode)\n",
    "        for edge in spanningTree:\n",
    "            print(edge.startVertex.name,\" - \",edge.targetVertex.name)"
   ]
  },
  {
   "cell_type": "markdown",
   "metadata": {},
   "source": [
    "### Test "
   ]
  },
  {
   "cell_type": "code",
   "execution_count": 19,
   "metadata": {},
   "outputs": [
    {
     "name": "stdout",
     "output_type": "stream",
     "text": [
      "b  -  f\n",
      "a  -  b\n",
      "d  -  e\n",
      "b  -  e\n",
      "b  -  c\n"
     ]
    }
   ],
   "source": [
    "vertex1 = Vertex(\"a\")\n",
    "vertex2 = Vertex(\"b\")\n",
    "vertex3 = Vertex(\"c\")\n",
    "vertex4 = Vertex(\"d\")\n",
    "vertex5 = Vertex(\"e\")\n",
    "vertex6 = Vertex(\"f\")\n",
    "\n",
    "edge1 = Edge(2,vertex1,vertex2)\n",
    "edge2 = Edge(4,vertex1,vertex4)\n",
    "edge3 = Edge(4,vertex2,vertex3)\n",
    "edge4 = Edge(4,vertex2,vertex4)\n",
    "edge5 = Edge(3,vertex2,vertex5)\n",
    "edge6 = Edge(1,vertex2,vertex6)\n",
    "edge7 = Edge(5,vertex3,vertex6)\n",
    "edge8 = Edge(2,vertex4,vertex5)\n",
    "edge9 = Edge(5,vertex5,vertex6)\n",
    "\n",
    "vertexList = []\n",
    "vertexList.append(vertex1)\n",
    "vertexList.append(vertex2)\n",
    "vertexList.append(vertex3)\n",
    "vertexList.append(vertex4)\n",
    "vertexList.append(vertex5)\n",
    "vertexList.append(vertex6)\n",
    "\n",
    "edgeList = []\n",
    "edgeList.append(edge1)\n",
    "edgeList.append(edge2)\n",
    "edgeList.append(edge3)\n",
    "edgeList.append(edge4)\n",
    "edgeList.append(edge5)\n",
    "edgeList.append(edge6)\n",
    "edgeList.append(edge7)\n",
    "edgeList.append(edge8)\n",
    "edgeList.append(edge9)\n",
    "\n",
    "algorithm = Algorithm()\n",
    "algorithm.constructSpanningTree(vertexList,edgeList)"
   ]
  }
 ],
 "metadata": {
  "kernelspec": {
   "display_name": "Python 3",
   "language": "python",
   "name": "python3"
  },
  "language_info": {
   "codemirror_mode": {
    "name": "ipython",
    "version": 3
   },
   "file_extension": ".py",
   "mimetype": "text/x-python",
   "name": "python",
   "nbconvert_exporter": "python",
   "pygments_lexer": "ipython3",
   "version": "3.6.3"
  }
 },
 "nbformat": 4,
 "nbformat_minor": 2
}
