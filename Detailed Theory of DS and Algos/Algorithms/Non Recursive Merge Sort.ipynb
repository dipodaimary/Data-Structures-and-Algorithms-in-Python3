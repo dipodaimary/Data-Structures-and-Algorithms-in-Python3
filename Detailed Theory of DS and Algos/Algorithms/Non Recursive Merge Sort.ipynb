{
 "cells": [
  {
   "cell_type": "code",
   "execution_count": 8,
   "metadata": {
    "collapsed": true
   },
   "outputs": [],
   "source": [
    "import math\n",
    "def merge(src, result, start, inc):\n",
    "    \"\"\"Merge src[start:start+inc] ans src[start+inc:start+2*inc] into result\"\"\"\n",
    "    end1 = start + inc\n",
    "    end2 = min(start + 2 * inc, len(src))\n",
    "    x, y, z = start, start + inc, start\n",
    "    while x < end1 and y < end2:\n",
    "        if src[x] < src[y]:\n",
    "            result[z] = src[x]\n",
    "            x += 1\n",
    "        else:\n",
    "            result[z] = src[y]\n",
    "            y += 1\n",
    "        z += 1\n",
    "        if x < end1:\n",
    "            result[z:end2] = src[x:end1]\n",
    "        elif y < end2:\n",
    "            result[z:end2] = src[y:end2]\n"
   ]
  },
  {
   "cell_type": "code",
   "execution_count": 9,
   "metadata": {
    "collapsed": true
   },
   "outputs": [],
   "source": [
    "def merge_sort(s):\n",
    "    n = len(s)\n",
    "    logn = math.ceil(math.log(n, 2))\n",
    "    src, dest = s, [None] * n\n",
    "    for i in (2 ** k for k in range(logn)):\n",
    "        for j in range(0, n, 2 * i):\n",
    "            merge(src, dest, j, i)\n",
    "        src, dest = dest, src\n",
    "    if s is not src:\n",
    "        s[0:n] = src[0:n]"
   ]
  },
  {
   "cell_type": "code",
   "execution_count": 11,
   "metadata": {},
   "outputs": [],
   "source": [
    "#s=[232,3,2,4,34,3,43,4,6,6,54,656,5]\n",
    "#merge_sort(s)\n",
    "#print(s)"
   ]
  }
 ],
 "metadata": {
  "kernelspec": {
   "display_name": "Python 3",
   "language": "python",
   "name": "python3"
  },
  "language_info": {
   "codemirror_mode": {
    "name": "ipython",
    "version": 3
   },
   "file_extension": ".py",
   "mimetype": "text/x-python",
   "name": "python",
   "nbconvert_exporter": "python",
   "pygments_lexer": "ipython3",
   "version": "3.6.3"
  }
 },
 "nbformat": 4,
 "nbformat_minor": 2
}
