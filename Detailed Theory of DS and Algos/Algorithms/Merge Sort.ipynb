{
 "cells": [
  {
   "cell_type": "code",
   "execution_count": 1,
   "metadata": {
    "collapsed": true
   },
   "outputs": [],
   "source": [
    "def merge(s1, s2, s):\n",
    "    i = j = 0\n",
    "    while i + j < len(s):\n",
    "        if j == len(s2) or (i < len(s1) and s1[i] < s2[j]):\n",
    "            s[i + j] = s1[i]\n",
    "            i += 1\n",
    "        else:\n",
    "            s[i + j] = s2[j]\n",
    "            j += 1"
   ]
  },
  {
   "cell_type": "code",
   "execution_count": 2,
   "metadata": {
    "collapsed": true
   },
   "outputs": [],
   "source": [
    "def merge_sort(s):\n",
    "    n = len(s)\n",
    "    if n < 2:\n",
    "        return\n",
    "    mid = n // 2\n",
    "    s1 = s[0:mid]\n",
    "    s2 = s[mid:n]\n",
    "    merge_sort(s1)\n",
    "    merge_sort(s2)\n",
    "    merge(s1, s2, s)"
   ]
  },
  {
   "cell_type": "code",
   "execution_count": 5,
   "metadata": {},
   "outputs": [
    {
     "name": "stdout",
     "output_type": "stream",
     "text": [
      "[2, 2, 3, 3, 6, 6, 9, 21, 22, 33, 35, 344]\n"
     ]
    }
   ],
   "source": [
    "s = [2,3,6,3,2,6,9,22,33,21,344,35]\n",
    "merge_sort(s)\n",
    "print(s)"
   ]
  }
 ],
 "metadata": {
  "kernelspec": {
   "display_name": "Python 3",
   "language": "python",
   "name": "python3"
  },
  "language_info": {
   "codemirror_mode": {
    "name": "ipython",
    "version": 3
   },
   "file_extension": ".py",
   "mimetype": "text/x-python",
   "name": "python",
   "nbconvert_exporter": "python",
   "pygments_lexer": "ipython3",
   "version": "3.6.3"
  }
 },
 "nbformat": 4,
 "nbformat_minor": 2
}
