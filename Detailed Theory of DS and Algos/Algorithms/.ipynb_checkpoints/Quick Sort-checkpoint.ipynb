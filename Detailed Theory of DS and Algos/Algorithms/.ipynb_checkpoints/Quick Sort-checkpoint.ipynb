{
 "cells": [
  {
   "cell_type": "code",
   "execution_count": 2,
   "metadata": {
    "collapsed": true
   },
   "outputs": [],
   "source": [
    "def inplace_quick_sort(S, a, b):\n",
    "    if a >= b:\n",
    "        return\n",
    "    pivot = S[b]\n",
    "    left = a\n",
    "    right = b - 1\n",
    "    while left <= right:\n",
    "        while left <= right and S[left] < pivot:\n",
    "            left += 1\n",
    "        while left <= right and pivot < S[right]:\n",
    "            right -= 1\n",
    "        if left <= right:\n",
    "            S[left], S[right] = S[right], S[left]\n",
    "            left, right = left + 1, right - 1\n",
    "    S[left], S[b] = S[b], S[left]\n",
    "    inplace_quick_sort(S, a, left - 1)\n",
    "    inplace_quick_sort(S, left + 1, b)"
   ]
  },
  {
   "cell_type": "code",
   "execution_count": 3,
   "metadata": {},
   "outputs": [
    {
     "name": "stdout",
     "output_type": "stream",
     "text": [
      "[4, 4, 5, 33, 43, 46, 576, 654, 23234]\n"
     ]
    }
   ],
   "source": [
    "if __name__ == '__main__':\n",
    "    a = [23234, 33, 43, 4, 5, 4, 46, 576, 654]\n",
    "    inplace_quick_sort(a, 0, len(a) - 1)\n",
    "    print(a)"
   ]
  }
 ],
 "metadata": {
  "kernelspec": {
   "display_name": "Python 3",
   "language": "python",
   "name": "python3"
  },
  "language_info": {
   "codemirror_mode": {
    "name": "ipython",
    "version": 3
   },
   "file_extension": ".py",
   "mimetype": "text/x-python",
   "name": "python",
   "nbconvert_exporter": "python",
   "pygments_lexer": "ipython3",
   "version": "3.6.3"
  }
 },
 "nbformat": 4,
 "nbformat_minor": 2
}
