{
 "cells": [
  {
   "cell_type": "code",
   "execution_count": 1,
   "metadata": {},
   "outputs": [
    {
     "data": {
      "text/plain": [
       "['b', 'i', 'r', 'd']"
      ]
     },
     "execution_count": 1,
     "metadata": {},
     "output_type": "execute_result"
    }
   ],
   "source": [
    "list('bird')"
   ]
  },
  {
   "cell_type": "code",
   "execution_count": 3,
   "metadata": {},
   "outputs": [
    {
     "data": {
      "text/plain": [
       "'bird'"
      ]
     },
     "execution_count": 3,
     "metadata": {},
     "output_type": "execute_result"
    }
   ],
   "source": [
    "''.join(['b', 'i', 'r', 'd'])"
   ]
  },
  {
   "cell_type": "code",
   "execution_count": 6,
   "metadata": {},
   "outputs": [
    {
     "ename": "SyntaxError",
     "evalue": "invalid syntax (<ipython-input-6-6091c8c8605f>, line 1)",
     "output_type": "error",
     "traceback": [
      "\u001b[0;36m  File \u001b[0;32m\"<ipython-input-6-6091c8c8605f>\"\u001b[0;36m, line \u001b[0;32m1\u001b[0m\n\u001b[0;31m    class CeaserCipher(object)\u001b[0m\n\u001b[0m                              ^\u001b[0m\n\u001b[0;31mSyntaxError\u001b[0m\u001b[0;31m:\u001b[0m invalid syntax\n"
     ]
    }
   ],
   "source": [
    "class CeaserCipher(object)"
   ]
  },
  {
   "cell_type": "code",
   "execution_count": 10,
   "metadata": {},
   "outputs": [
    {
     "data": {
      "text/plain": [
       "'F'"
      ]
     },
     "execution_count": 10,
     "metadata": {},
     "output_type": "execute_result"
    }
   ],
   "source": [
    "chr((5) % 26 + ord('A'))"
   ]
  },
  {
   "cell_type": "code",
   "execution_count": 13,
   "metadata": {},
   "outputs": [
    {
     "name": "stdout",
     "output_type": "stream",
     "text": [
      "Secret:  WKH HDJOH LV LQ SODB; PHHW DW MRH'V\n",
      "Message:  THE EAGLE IS IN PLAY; MEET AT JOE'S\n"
     ]
    }
   ],
   "source": [
    "class CeaserCipher(object):\n",
    "    def __init__(self, shift):\n",
    "        encoder = [None] * 26\n",
    "        decoder = [None] * 26\n",
    "        for k in range(26):\n",
    "            encoder[k] = chr((k + shift) % 26 + ord('A'))\n",
    "            decoder[k] = chr((k - shift) % 26 + ord('A'))\n",
    "        self._forward = ''.join(encoder)\n",
    "        self._backward = ''.join(decoder)\n",
    "\n",
    "    def encrypt(self, message):\n",
    "        return self._transform(message, self._forward)\n",
    "\n",
    "    def decrypt(self, secret):\n",
    "        return self._transform(secret, self._backward)\n",
    "\n",
    "    def _transform(self, original, code):\n",
    "        msg = list(original)\n",
    "        for k in range(len(msg)):\n",
    "            if msg[k].isupper():\n",
    "                j = ord(msg[k]) - ord('A')\n",
    "                msg[k] = code[j]\n",
    "        return ''.join(msg)\n",
    "\n",
    "if __name__ == '__main__':\n",
    "    cipher = CeaserCipher(3)\n",
    "    message = \"THE EAGLE IS IN PLAY; MEET AT JOE'S\"\n",
    "    coded = cipher.encrypt(message)\n",
    "    print('Secret: ', coded)\n",
    "    answer = cipher.decrypt(coded)\n",
    "    print('Message: ', answer)"
   ]
  },
  {
   "cell_type": "markdown",
   "metadata": {},
   "source": [
    "### Multidimensional Array"
   ]
  },
  {
   "cell_type": "markdown",
   "metadata": {},
   "source": [
    "##### A wrong representation"
   ]
  },
  {
   "cell_type": "code",
   "execution_count": 16,
   "metadata": {},
   "outputs": [
    {
     "data": {
      "text/plain": [
       "[[0, 0, 0, 0], [0, 0, 0, 0], [0, 0, 0, 0]]"
      ]
     },
     "execution_count": 16,
     "metadata": {},
     "output_type": "execute_result"
    }
   ],
   "source": [
    "[[0]*4]*3"
   ]
  },
  {
   "cell_type": "markdown",
   "metadata": {},
   "source": [
    "##### Correct Representation "
   ]
  },
  {
   "cell_type": "code",
   "execution_count": 18,
   "metadata": {},
   "outputs": [
    {
     "data": {
      "text/plain": [
       "[[0, 0, 0], [0, 0, 0], [0, 0, 0], [0, 0, 0]]"
      ]
     },
     "execution_count": 18,
     "metadata": {},
     "output_type": "execute_result"
    }
   ],
   "source": [
    "[[0]*3 for j in range(4)]"
   ]
  },
  {
   "cell_type": "markdown",
   "metadata": {},
   "source": [
    "### Tic Tac Toe "
   ]
  },
  {
   "cell_type": "code",
   "execution_count": 19,
   "metadata": {
    "collapsed": true
   },
   "outputs": [],
   "source": [
    "class TicTacToe(object):\n",
    "    def __init__(self):\n",
    "        self._board = [[' '] * 3 for i in range(3)]\n",
    "        self._player = 'X'\n",
    "\n",
    "    def mark(self, i, j):\n",
    "        if not (0 <= i <= 2 and 0 <= j <= 2):\n",
    "            raise ValueError('Invalid Board Position')\n",
    "        if self._board[i][j] != ' ':\n",
    "            raise ValueError('Board Position Occupied')\n",
    "        if self.winner() is not None:\n",
    "            raise ValueError('The Game is already Complete')\n",
    "        self._board[j][j] = self._player\n",
    "        if self._player == 'X':\n",
    "            self._player = 'O'\n",
    "        else:\n",
    "            self._player = 'X'\n",
    "\n",
    "    def _is_win(self, mark):\n",
    "        board = self._board\n",
    "        return (mark == board[0][0] == board[0][1] == board[0][2] or\n",
    "                mark == board[1][0] == board[1][1] == board[1][2] or\n",
    "                mark == board[2][0] == board[2][1] == board[2][2] or\n",
    "                mark == board[0][0] == board[1][0] == board[2][0] or\n",
    "                mark == board[0][1] == board[1][1] == board[2][1] or\n",
    "                mark == board[0][2] == board[1][2] == board[2][2] or\n",
    "                mark == board[0][0] == board[1][1] == board[2][2] or\n",
    "                mark == board[0][2] == board[1][1] == board[2][0])\n",
    "\n",
    "    def winner(self):\n",
    "        for mark in 'XD':\n",
    "            if self._is_win(mark):\n",
    "                return mark\n",
    "            return None\n",
    "\n",
    "    def __str__(self):\n",
    "        rows = ['|'.join(self._board[r] for r in range(3))]\n",
    "        return '\\n_________________\\n'.join(rows)\n"
   ]
  }
 ],
 "metadata": {
  "kernelspec": {
   "display_name": "Python 3",
   "language": "python",
   "name": "python3"
  },
  "language_info": {
   "codemirror_mode": {
    "name": "ipython",
    "version": 3
   },
   "file_extension": ".py",
   "mimetype": "text/x-python",
   "name": "python",
   "nbconvert_exporter": "python",
   "pygments_lexer": "ipython3",
   "version": "3.6.3"
  }
 },
 "nbformat": 4,
 "nbformat_minor": 2
}
