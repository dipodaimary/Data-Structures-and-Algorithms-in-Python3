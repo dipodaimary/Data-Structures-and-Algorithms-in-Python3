{
 "cells": [
  {
   "cell_type": "code",
   "execution_count": 1,
   "metadata": {},
   "outputs": [
    {
     "name": "stdout",
     "output_type": "stream",
     "text": [
      "Is queue empty:  False\n",
      "Lenght of queue:  4\n",
      "2\n",
      "3\n",
      "4\n",
      "5\n"
     ]
    }
   ],
   "source": [
    "class LinkedQueue(object):\n",
    "    class _Node(object):\n",
    "        def __init__(self, element, next):\n",
    "            __slots__ = '_element', '_next'\n",
    "            self._element = element\n",
    "            self._next = next\n",
    "\n",
    "    def __init__(self):\n",
    "        self._head = None\n",
    "        self._tail = None\n",
    "        self._size = 0\n",
    "\n",
    "    def __len__(self):\n",
    "        return self._size\n",
    "\n",
    "    def is_empty(self):\n",
    "        return self._size == 0\n",
    "\n",
    "    def first(self):\n",
    "        if self.is_empty():\n",
    "            raise ('Queue is empty')\n",
    "        else:\n",
    "            return self._head._element\n",
    "\n",
    "    def dequeue(self):\n",
    "        if self.is_empty():\n",
    "            raise ('Queue is empty')\n",
    "        else:\n",
    "            answer = self._head._element\n",
    "            self._head = self._head._next\n",
    "            self._size -= 1\n",
    "            if self.is_empty():\n",
    "                self._tail = None\n",
    "            return answer\n",
    "\n",
    "    def enqueue(self, e):\n",
    "        newest = self._Node(e, None)\n",
    "        if (self.is_empty()):\n",
    "            self._head = newest\n",
    "        else:\n",
    "            self._tail._next = newest\n",
    "        self._tail = newest\n",
    "        self._size += 1\n",
    "\n",
    "\n",
    "if __name__ == '__main__':\n",
    "    q = LinkedQueue()\n",
    "    q.enqueue(2)\n",
    "    q.enqueue(3)\n",
    "    q.enqueue(4)\n",
    "    q.enqueue(5)\n",
    "    print('Is queue empty: ', q.is_empty())\n",
    "    print('Lenght of queue: ', q.__len__())\n",
    "    while not (q.is_empty()):\n",
    "        print(q.dequeue())\n"
   ]
  }
 ],
 "metadata": {
  "kernelspec": {
   "display_name": "Python 3",
   "language": "python",
   "name": "python3"
  },
  "language_info": {
   "codemirror_mode": {
    "name": "ipython",
    "version": 3
   },
   "file_extension": ".py",
   "mimetype": "text/x-python",
   "name": "python",
   "nbconvert_exporter": "python",
   "pygments_lexer": "ipython3",
   "version": "3.6.3"
  }
 },
 "nbformat": 4,
 "nbformat_minor": 2
}
