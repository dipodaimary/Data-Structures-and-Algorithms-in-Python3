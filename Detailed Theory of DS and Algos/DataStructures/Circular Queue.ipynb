{
 "cells": [
  {
   "cell_type": "code",
   "execution_count": 1,
   "metadata": {},
   "outputs": [
    {
     "name": "stdout",
     "output_type": "stream",
     "text": [
      "1\n",
      "2\n",
      "3\n",
      "4\n",
      "5\n"
     ]
    }
   ],
   "source": [
    "class CircularQueue(object):\n",
    "    class _Node(object):\n",
    "        def __init__(self, element, next):\n",
    "            __slots__ = '_element', '_next'\n",
    "            self._element = element\n",
    "            self._next = next\n",
    "\n",
    "    def __init__(self):\n",
    "        self._tail = None\n",
    "        self._size = 0\n",
    "\n",
    "    def __len__(self):\n",
    "        return self._size\n",
    "\n",
    "    def is_empty(self):\n",
    "        return self._size == 0\n",
    "\n",
    "    def first(self):\n",
    "        if self.is_empty():\n",
    "            raise ('Empty Circular Queue')\n",
    "        else:\n",
    "            head = self._tail._next\n",
    "            return head._element\n",
    "\n",
    "    def deque(self):\n",
    "        if self.is_empty():\n",
    "            raise ('Circular Queue is Empty')\n",
    "        oldhead = self._tail._next\n",
    "        if self._size == 1:\n",
    "            self._tail = None\n",
    "        else:\n",
    "            self._tail._next = oldhead._next\n",
    "        self._size -= 1\n",
    "        return oldhead._element\n",
    "\n",
    "    def enqueue(self, e):\n",
    "        newest = self._Node(e, None)\n",
    "        if self.is_empty():\n",
    "            newest._next = newest\n",
    "        else:\n",
    "            newest._next = self._tail._next\n",
    "            self._tail._next = newest\n",
    "        self._tail = newest\n",
    "        self._size += 1\n",
    "\n",
    "    def rotate(self):\n",
    "        if self._size > 0:\n",
    "            self._tail = self._tail._next\n",
    "\n",
    "\n",
    "if __name__ == '__main__':\n",
    "    cq = CircularQueue()\n",
    "    cq.enqueue(1)\n",
    "    cq.enqueue(2)\n",
    "    cq.enqueue(3)\n",
    "    cq.enqueue(4)\n",
    "    cq.enqueue(5)\n",
    "    while not (cq.is_empty()):\n",
    "        print(cq.deque())\n"
   ]
  }
 ],
 "metadata": {
  "kernelspec": {
   "display_name": "Python 3",
   "language": "python",
   "name": "python3"
  },
  "language_info": {
   "codemirror_mode": {
    "name": "ipython",
    "version": 3
   },
   "file_extension": ".py",
   "mimetype": "text/x-python",
   "name": "python",
   "nbconvert_exporter": "python",
   "pygments_lexer": "ipython3",
   "version": "3.6.3"
  }
 },
 "nbformat": 4,
 "nbformat_minor": 2
}
