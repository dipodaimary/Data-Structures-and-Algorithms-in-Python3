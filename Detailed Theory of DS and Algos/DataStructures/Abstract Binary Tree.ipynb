{
 "cells": [
  {
   "cell_type": "markdown",
   "metadata": {},
   "source": [
    "### Tree class "
   ]
  },
  {
   "cell_type": "code",
   "execution_count": 2,
   "metadata": {
    "collapsed": true
   },
   "outputs": [],
   "source": [
    "class Tree:\n",
    "    # nested position class\n",
    "    class position:\n",
    "        def element(self):\n",
    "            raise NotImplementedError('must be implemented by subclass')\n",
    "\n",
    "        def __eq__(self, other):\n",
    "            raise NotImplementedError('must be implemented by subclass')\n",
    "\n",
    "        def __ne__(self, other):\n",
    "            return not (self == other)\n",
    "\n",
    "    # abstract classes that concrete subclass must support\n",
    "    def root(self):\n",
    "        raise NotImplementedError('must be implemented by subclass')\n",
    "\n",
    "    def parent(self):\n",
    "        raise NotImplementedError('must be implemented by subclass')\n",
    "\n",
    "    def num_childern(self):\n",
    "        raise NotImplementedError('must be implemented by subclass')\n",
    "\n",
    "    def childern(self):\n",
    "        raise NotImplementedError('must be implemented by subclass')\n",
    "\n",
    "    def __len__(self):\n",
    "        raise NotImplementedError('must be implemented by subclass')\n",
    "\n",
    "    def is_root(self):\n",
    "        raise NotImplementedError('must be implemented by subclass')\n",
    "\n",
    "    def is_leaf(self):\n",
    "        raise NotImplementedError('must be implemented by subclass')\n",
    "\n",
    "    def is_empty(self):\n",
    "        raise NotImplementedError('must be implemented by subclass')\n",
    "\n",
    "    def depth(self, p):\n",
    "        if self.is_root(p):\n",
    "            return 0\n",
    "        else:\n",
    "            return 1 + self.depth(self.parent(p))\n",
    "\n",
    "    def _depth(self, p):\n",
    "        return max(self.depth(p) for p in self.positions() if self.is_leaf(p))\n",
    "\n",
    "    def _height2(self, p):\n",
    "        if self.is_root(p):\n",
    "            return 0\n",
    "        else:\n",
    "            return 1 + max(self._height2(c) for c in self.childern(p))\n",
    "\n",
    "    def height(self, p):\n",
    "        if p is None:\n",
    "            p = self.root()\n",
    "        return self._height2(p)\n"
   ]
  },
  {
   "cell_type": "markdown",
   "metadata": {},
   "source": [
    "### Binary Tree Abstract Class"
   ]
  },
  {
   "cell_type": "code",
   "execution_count": 3,
   "metadata": {},
   "outputs": [],
   "source": [
    "class BinaryTree(Tree):\n",
    "    def left(self, p):\n",
    "        raise NotImplementedError('must be implemented by subclass')\n",
    "\n",
    "    def right(self, p):\n",
    "        raise NotImplementedError('must be implemented by subclass')\n",
    "\n",
    "    def sibling(self, p):\n",
    "        parent = self.parent(p)\n",
    "        if parent is None:\n",
    "            return None\n",
    "        else:\n",
    "            if p == self.left(parent):\n",
    "                return self.right(parent)\n",
    "            else:\n",
    "                return self.left(parent)\n",
    "\n",
    "    def childern(self, p):\n",
    "        if self.left(p) is not None:\n",
    "            yield self.left(p)\n",
    "        if self.right(p) is not None:\n",
    "            yield self.right(p)\n"
   ]
  }
 ],
 "metadata": {
  "kernelspec": {
   "display_name": "Python 3",
   "language": "python",
   "name": "python3"
  },
  "language_info": {
   "codemirror_mode": {
    "name": "ipython",
    "version": 3
   },
   "file_extension": ".py",
   "mimetype": "text/x-python",
   "name": "python",
   "nbconvert_exporter": "python",
   "pygments_lexer": "ipython3",
   "version": "3.6.3"
  }
 },
 "nbformat": 4,
 "nbformat_minor": 2
}
