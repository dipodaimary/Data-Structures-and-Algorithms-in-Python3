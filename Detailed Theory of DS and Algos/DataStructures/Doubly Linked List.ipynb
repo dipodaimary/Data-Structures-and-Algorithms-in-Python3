{
 "cells": [
  {
   "cell_type": "code",
   "execution_count": 1,
   "metadata": {
    "collapsed": true
   },
   "outputs": [],
   "source": [
    "class DoubleLinkedList(object):\n",
    "    class _Node(object):\n",
    "        __slots__ = '_element', '_prev', '_next'\n",
    "\n",
    "        def __init__(self, element, prev, next):\n",
    "            self._element = element\n",
    "            self._prev = prev\n",
    "            self._next = next\n",
    "\n",
    "    def __init__(self):\n",
    "        self._header = self._Node(None, None, None)\n",
    "        self._trailer = self._Node(None, None, None)\n",
    "        self._header._next = self._header\n",
    "        self._trailer._prev = self._trailer\n",
    "        self._size = 0\n",
    "\n",
    "    def __len__(self):\n",
    "        return self._size\n",
    "\n",
    "    def is_empty(self):\n",
    "        return self._size == 0\n",
    "\n",
    "    def _inser_between(self, e, predecessor, successor):\n",
    "        newest = self._Node(e, predecessor, successor)\n",
    "        predecessor._next = newest\n",
    "        successor._prev = newest\n",
    "        self._size += 1\n",
    "        return newest\n",
    "\n",
    "    def _delete_node(self, node):\n",
    "        predecessor = self._prev\n",
    "        successor = self._next\n",
    "        predecessor._next = successor\n",
    "        successor._prev = predecessor\n",
    "        self._size -= 1\n",
    "        element = node._element\n",
    "        node._next = node._prev = node._element = None\n",
    "        return element\n"
   ]
  }
 ],
 "metadata": {
  "kernelspec": {
   "display_name": "Python 3",
   "language": "python",
   "name": "python3"
  },
  "language_info": {
   "codemirror_mode": {
    "name": "ipython",
    "version": 3
   },
   "file_extension": ".py",
   "mimetype": "text/x-python",
   "name": "python",
   "nbconvert_exporter": "python",
   "pygments_lexer": "ipython3",
   "version": "3.6.3"
  }
 },
 "nbformat": 4,
 "nbformat_minor": 2
}
