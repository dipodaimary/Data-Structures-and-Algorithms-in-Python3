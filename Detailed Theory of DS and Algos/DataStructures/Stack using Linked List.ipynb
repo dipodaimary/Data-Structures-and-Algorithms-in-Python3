{
 "cells": [
  {
   "cell_type": "code",
   "execution_count": 1,
   "metadata": {},
   "outputs": [
    {
     "name": "stdout",
     "output_type": "stream",
     "text": [
      "Stack size: 4\n",
      "8\n",
      "6\n",
      "4\n",
      "2\n"
     ]
    }
   ],
   "source": [
    "class LinkedStack(object):\n",
    "    class _Node(object):\n",
    "        def __init__(self, element, next):\n",
    "            __slots__ = '_element', '_next'  # streamline memory usage\n",
    "            self._element = element\n",
    "            self._next = next\n",
    "\n",
    "    def __init__(self):\n",
    "        self._head = None\n",
    "        self._size = 0\n",
    "\n",
    "    def __len__(self):\n",
    "        return self._size\n",
    "\n",
    "    def is_empty(self):\n",
    "        return self._size == 0\n",
    "\n",
    "    def push(self, e):\n",
    "        self._head = self._Node(e, self._head)\n",
    "        self._size += 1\n",
    "\n",
    "    def top(self):\n",
    "        if self.is_empty():\n",
    "            raise Empty(\"Stack is empty\")\n",
    "        else:\n",
    "            return self._head._element\n",
    "\n",
    "    def pop(self):\n",
    "        if self.is_empty():\n",
    "            raise Empty(\"Stack is empty\")\n",
    "        else:\n",
    "            answer = self._head._element\n",
    "            self._head = self._head._next\n",
    "            self._size -= 1\n",
    "            return answer\n",
    "\n",
    "\n",
    "if __name__ == '__main__':\n",
    "    s = LinkedStack()\n",
    "    s.push(2)\n",
    "    s.push(4)\n",
    "    s.push(6)\n",
    "    s.push(8)\n",
    "    print('Stack size:',s._size)\n",
    "    while not (s.is_empty()):\n",
    "        print(s.pop())\n",
    "\n"
   ]
  }
 ],
 "metadata": {
  "kernelspec": {
   "display_name": "Python 3",
   "language": "python",
   "name": "python3"
  },
  "language_info": {
   "codemirror_mode": {
    "name": "ipython",
    "version": 3
   },
   "file_extension": ".py",
   "mimetype": "text/x-python",
   "name": "python",
   "nbconvert_exporter": "python",
   "pygments_lexer": "ipython3",
   "version": "3.6.3"
  }
 },
 "nbformat": 4,
 "nbformat_minor": 2
}
