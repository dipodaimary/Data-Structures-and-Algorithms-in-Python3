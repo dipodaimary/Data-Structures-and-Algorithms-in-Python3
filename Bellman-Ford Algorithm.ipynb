{
 "cells": [
  {
   "cell_type": "markdown",
   "metadata": {},
   "source": [
    "### Node "
   ]
  },
  {
   "cell_type": "code",
   "execution_count": 1,
   "metadata": {
    "collapsed": true
   },
   "outputs": [],
   "source": [
    "import sys\n",
    "class Node(object):\n",
    "    def __init__(self,name):\n",
    "        self.name = name\n",
    "        self.visited = False\n",
    "        self.adjacencyList = []\n",
    "        self.predecessor = None\n",
    "        self.minDistance = sys.maxsize"
   ]
  },
  {
   "cell_type": "markdown",
   "metadata": {},
   "source": [
    "### Edge "
   ]
  },
  {
   "cell_type": "code",
   "execution_count": 6,
   "metadata": {
    "collapsed": true
   },
   "outputs": [],
   "source": [
    "class Edge(object):\n",
    "    def __init__(self,weight,startVertex,targetVertex):\n",
    "        self.weight = weight\n",
    "        self.startVertex = startVertex\n",
    "        self.targetVertex = targetVertex"
   ]
  },
  {
   "cell_type": "markdown",
   "metadata": {},
   "source": [
    "### Bellman-Ford Algorithm Implementation "
   ]
  },
  {
   "cell_type": "code",
   "execution_count": 14,
   "metadata": {
    "collapsed": true
   },
   "outputs": [],
   "source": [
    "class Algorithm(object):\n",
    "    HAS_CYCLE = False\n",
    "    def calculateShortestPath(self,vertexList,edgeList,startVertex):\n",
    "        startVertex.minDistance = 0\n",
    "        for i in range(0,len(vertexList)-1):\n",
    "            for edge in edgeList:\n",
    "                u = edge.startVertex\n",
    "                v = edge.targetVertex\n",
    "                newDistance = u.minDistance + edge.weight\n",
    "                if newDistance < v.minDistance:\n",
    "                    v.minDistance = newDistance\n",
    "                    v.predecessor = u\n",
    "        for edge in edgeList:\n",
    "            if self.hasCycle(edge):\n",
    "                print(\"Negative cycle detected\")\n",
    "                Algorithm.HAS_CYCLE = True\n",
    "                return\n",
    "    def getShortestPath(self,targetVertex):\n",
    "        print(\"Shortest Path to Target Vertex\",targetVertex.minDistance)\n",
    "        node = targetVertex\n",
    "        while node is not None:\n",
    "            print(\"%s ->\"%node.name)\n",
    "            node = node.predecessor\n",
    "            \n",
    "    def hasCycle(self,edge):\n",
    "        if not Algorithm.HAS_CYCLE:\n",
    "            if (edge.startVertex.minDistance + edge.weight)  < edge.targetVertex.minDistance:\n",
    "                return True\n",
    "            else:\n",
    "                return False"
   ]
  },
  {
   "cell_type": "markdown",
   "metadata": {},
   "source": [
    "### Test "
   ]
  },
  {
   "cell_type": "code",
   "execution_count": 15,
   "metadata": {},
   "outputs": [
    {
     "name": "stdout",
     "output_type": "stream",
     "text": [
      "Shortest Path to Target Vertex 3\n",
      "D ->\n",
      "C ->\n",
      "B ->\n",
      "A ->\n"
     ]
    }
   ],
   "source": [
    "node1 = Node(\"A\")\n",
    "node2 = Node(\"B\")\n",
    "node3 = Node(\"C\")\n",
    "node4 = Node(\"D\")\n",
    "\n",
    "edge1 = Edge(1,node1,node2)\n",
    "edge2 = Edge(1,node2,node3)\n",
    "edge3 = Edge(1,node3,node4)\n",
    "edge4 = Edge(4,node3,node2)\n",
    "edge5 = Edge(300,node1,node4)\n",
    "\n",
    "node1.adjacencyList.append(edge1)\n",
    "node1.adjacencyList.append(edge2)\n",
    "node2.adjacencyList.append(edge3)\n",
    "node3.adjacencyList.append(edge4)\n",
    "node3.adjacencyList.append(edge2)\n",
    "\n",
    "vertexList = [node1,node2,node3,node4]\n",
    "edgeList = [edge1,edge2,edge3,edge4,edge5]\n",
    "algorithm = Algorithm()\n",
    "algorithm.calculateShortestPath(vertexList,edgeList,node1)\n",
    "algorithm.getShortestPath(node4)"
   ]
  }
 ],
 "metadata": {
  "kernelspec": {
   "display_name": "Python 3",
   "language": "python",
   "name": "python3"
  },
  "language_info": {
   "codemirror_mode": {
    "name": "ipython",
    "version": 3
   },
   "file_extension": ".py",
   "mimetype": "text/x-python",
   "name": "python",
   "nbconvert_exporter": "python",
   "pygments_lexer": "ipython3",
   "version": "3.6.3"
  }
 },
 "nbformat": 4,
 "nbformat_minor": 2
}
