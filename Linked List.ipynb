{
 "cells": [
  {
   "cell_type": "markdown",
   "metadata": {
    "collapsed": true
   },
   "source": [
    "### Node "
   ]
  },
  {
   "cell_type": "code",
   "execution_count": 8,
   "metadata": {
    "collapsed": true
   },
   "outputs": [],
   "source": [
    "class Node(object):\n",
    "    def __init__(self, data):\n",
    "        self.nextNode = None\n",
    "        self.data = data\n",
    "\n",
    "    def remove(self, data, previousNode):\n",
    "        if self.data == data:\n",
    "            previousNode.nextNode = self.nextNode\n",
    "            del self.nextNode\n",
    "            del self.data\n",
    "        else:\n",
    "            if self.nextNode is not None:\n",
    "                self.nextNode.remove(data, self)"
   ]
  },
  {
   "cell_type": "markdown",
   "metadata": {},
   "source": [
    "### Linked List Implementation "
   ]
  },
  {
   "cell_type": "code",
   "execution_count": 20,
   "metadata": {
    "collapsed": true
   },
   "outputs": [],
   "source": [
    "class LinkedList(object):\n",
    "    def __init__(self):\n",
    "        self.head = None\n",
    "        self.counter = 0\n",
    "\n",
    "    # insert at the start in O(1) time\n",
    "    def insertStart(self, data):\n",
    "        self.counter += 1\n",
    "        newNode = Node(data)\n",
    "        if not self.head:\n",
    "            self.head = newNode\n",
    "        else:\n",
    "            newNode.nextNode = self.head\n",
    "            self.head = newNode\n",
    "\n",
    "    def size(self):\n",
    "        return self.counter\n",
    "\n",
    "    def insertEnd(self,data):\n",
    "        if self.head is None:\n",
    "            self.insertStart(data)\n",
    "            return\n",
    "        self.counter+=1\n",
    "        newNode = Node(data)\n",
    "        actualNode = self.head\n",
    "        while actualNode.nextNode is not None:\n",
    "            actualNode = actualNode.nextNode\n",
    "        actualNode.nextNode = newNode\n",
    "\n",
    "    # running time is O(N)\n",
    "    def remove(self,data):\n",
    "        if self.head:\n",
    "            if data == self.head.data:\n",
    "                self.head = self.head.nextNode\n",
    "        else:\n",
    "            self.head.remove(data,self.head)\n",
    "\n",
    "    def traverse_list(self):\n",
    "        actualNode = self.head\n",
    "        while actualNode is not None:\n",
    "            print(\"%d \"%actualNode.data)\n",
    "            actualNode = actualNode.nextNode"
   ]
  },
  {
   "cell_type": "code",
   "execution_count": 21,
   "metadata": {},
   "outputs": [
    {
     "name": "stdout",
     "output_type": "stream",
     "text": [
      "31 \n",
      "12 \n",
      "122 \n",
      "3 \n",
      "31 \n",
      "12 \n",
      "122 \n",
      "3 \n"
     ]
    }
   ],
   "source": [
    "linkedlist = LinkedList()\n",
    "linkedlist.insertEnd(12)\n",
    "linkedlist.insertEnd(122)\n",
    "linkedlist.insertEnd(3)\n",
    "linkedlist.insertStart(31)\n",
    "linkedlist.traverse_list()\n",
    "linkedlist.remove(12)\n",
    "linkedlist.traverse_list()"
   ]
  }
 ],
 "metadata": {
  "kernelspec": {
   "display_name": "Python 2",
   "language": "python",
   "name": "python2"
  },
  "language_info": {
   "codemirror_mode": {
    "name": "ipython",
    "version": 2
   },
   "file_extension": ".py",
   "mimetype": "text/x-python",
   "name": "python",
   "nbconvert_exporter": "python",
   "pygments_lexer": "ipython2",
   "version": "2.7.14"
  }
 },
 "nbformat": 4,
 "nbformat_minor": 2
}
