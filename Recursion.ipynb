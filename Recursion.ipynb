{
 "cells": [
  {
   "cell_type": "markdown",
   "metadata": {},
   "source": [
    "### Rule Drawer"
   ]
  },
  {
   "cell_type": "code",
   "execution_count": 1,
   "metadata": {},
   "outputs": [
    {
     "name": "stdout",
     "output_type": "stream",
     "text": [
      "---------- 0\n",
      "--------\n",
      "---------\n",
      "-------\n",
      "--------\n",
      "------\n",
      "-------\n",
      "-----\n",
      "------\n",
      "----\n",
      "-----\n",
      "---\n",
      "----\n",
      "--\n",
      "---\n",
      "-\n",
      "--\n",
      "\n",
      "-\n",
      "---------- 1\n",
      "--------\n",
      "---------\n",
      "-------\n",
      "--------\n",
      "------\n",
      "-------\n",
      "-----\n",
      "------\n",
      "----\n",
      "-----\n",
      "---\n",
      "----\n",
      "--\n",
      "---\n",
      "-\n",
      "--\n",
      "\n",
      "-\n",
      "---------- 2\n",
      "--------\n",
      "---------\n",
      "-------\n",
      "--------\n",
      "------\n",
      "-------\n",
      "-----\n",
      "------\n",
      "----\n",
      "-----\n",
      "---\n",
      "----\n",
      "--\n",
      "---\n",
      "-\n",
      "--\n",
      "\n",
      "-\n",
      "---------- 3\n",
      "--------\n",
      "---------\n",
      "-------\n",
      "--------\n",
      "------\n",
      "-------\n",
      "-----\n",
      "------\n",
      "----\n",
      "-----\n",
      "---\n",
      "----\n",
      "--\n",
      "---\n",
      "-\n",
      "--\n",
      "\n",
      "-\n",
      "---------- 4\n"
     ]
    }
   ],
   "source": [
    "def draw_line(tick_length, tick_label=''):\n",
    "    line = '-' * tick_length\n",
    "    if tick_label:\n",
    "        line += ' ' + tick_label\n",
    "    print(line)\n",
    "\n",
    "def draw_interval(center_length):\n",
    "    if center_length > 0:\n",
    "        draw_line(center_length - 1)\n",
    "        draw_line(center_length)\n",
    "        draw_interval(center_length - 1)\n",
    "\n",
    "\n",
    "def draw_ruler(num_inches, major_length):\n",
    "    draw_line(major_length, '0')\n",
    "    for j in range(1, 1 + num_inches):\n",
    "        draw_interval(major_length - 1)\n",
    "        draw_line(major_length, str(j))\n",
    "\n",
    "if __name__=='__main__':\n",
    "    draw_ruler(4,10)"
   ]
  },
  {
   "cell_type": "markdown",
   "metadata": {},
   "source": [
    "### Unique"
   ]
  },
  {
   "cell_type": "code",
   "execution_count": 13,
   "metadata": {},
   "outputs": [
    {
     "name": "stdout",
     "output_type": "stream",
     "text": [
      "False\n"
     ]
    }
   ],
   "source": [
    "def unique(S, start, stop):\n",
    "    if stop - start <= 1:\n",
    "        return True\n",
    "    elif not unique(S, start, stop - 1):\n",
    "        return False\n",
    "    elif not unique(S, start + 1, stop):\n",
    "        return False\n",
    "    else:\n",
    "        return S[start] != S[stop-1]\n",
    "\n",
    "\n",
    "if __name__ == '__main__':\n",
    "    x = [1,2,3,3,4]\n",
    "    print(unique(x,0,4))\n"
   ]
  },
  {
   "cell_type": "markdown",
   "metadata": {},
   "source": [
    "### Binary Search"
   ]
  },
  {
   "cell_type": "code",
   "execution_count": 2,
   "metadata": {
    "collapsed": true
   },
   "outputs": [],
   "source": [
    "def BinarySearch(data, target, low, high):\n",
    "    if low > high:\n",
    "        return False\n",
    "    else:\n",
    "        mid = (high + low) // 2\n",
    "        if target == data[mid]:\n",
    "            return True\n",
    "        elif target < data[mid]:\n",
    "            return BinarySearch(data, target, low, mid)\n",
    "        else:\n",
    "            return BinarySearch(data, target, mid + 1, high)\n"
   ]
  },
  {
   "cell_type": "markdown",
   "metadata": {},
   "source": [
    "### Bad Fibonacci"
   ]
  },
  {
   "cell_type": "code",
   "execution_count": 3,
   "metadata": {},
   "outputs": [
    {
     "name": "stdout",
     "output_type": "stream",
     "text": [
      "13\n"
     ]
    }
   ],
   "source": [
    "def bad_fibonacci(n):\n",
    "    if n <= 1:\n",
    "        return n\n",
    "    else:\n",
    "        return bad_fibonacci(n - 2) + bad_fibonacci(n - 1)\n",
    "\n",
    "\n",
    "if __name__ == '__main__':\n",
    "    print(bad_fibonacci(7))\n"
   ]
  },
  {
   "cell_type": "markdown",
   "metadata": {},
   "source": [
    "### Good Fibonacci "
   ]
  },
  {
   "cell_type": "code",
   "execution_count": 4,
   "metadata": {},
   "outputs": [
    {
     "name": "stdout",
     "output_type": "stream",
     "text": [
      "(102334155, 63245986)\n"
     ]
    }
   ],
   "source": [
    "def good_fibonacci(n):\n",
    "    if n <= 1:\n",
    "        return (n, 0)\n",
    "    else:\n",
    "        (a, b) = good_fibonacci(n - 1)\n",
    "        return (a + b, a)\n",
    "\n",
    "\n",
    "if __name__ == '__main__':\n",
    "    print(good_fibonacci(40))\n"
   ]
  },
  {
   "cell_type": "markdown",
   "metadata": {},
   "source": [
    "### Linear Sum"
   ]
  },
  {
   "cell_type": "code",
   "execution_count": 1,
   "metadata": {},
   "outputs": [
    {
     "name": "stdout",
     "output_type": "stream",
     "text": [
      "37\n"
     ]
    }
   ],
   "source": [
    "def linear_sum(S, n):\n",
    "    if n == 0:\n",
    "        return 0\n",
    "    else:\n",
    "        return linear_sum(S, n - 1) + S[n - 1]\n",
    "\n",
    "\n",
    "if __name__ == '__main__':\n",
    "    x = [1, 2, 4, 5, 6, 8, 7, 4]\n",
    "    print(linear_sum(x, len(x)))"
   ]
  },
  {
   "cell_type": "markdown",
   "metadata": {},
   "source": [
    "### Power function using recursion "
   ]
  },
  {
   "cell_type": "code",
   "execution_count": 3,
   "metadata": {},
   "outputs": [
    {
     "name": "stdout",
     "output_type": "stream",
     "text": [
      "3125\n"
     ]
    }
   ],
   "source": [
    "def power2(x, n):\n",
    "    if n == 0:\n",
    "        return 1\n",
    "    partial = power2(x, n // 2)\n",
    "    result = partial * partial\n",
    "    if n % 2 == 1:\n",
    "        result *= x\n",
    "    return result\n",
    "\n",
    "\n",
    "if __name__ == '__main__':\n",
    "    print(power2(5, 5))"
   ]
  }
 ],
 "metadata": {
  "kernelspec": {
   "display_name": "Python 3",
   "language": "python",
   "name": "python3"
  },
  "language_info": {
   "codemirror_mode": {
    "name": "ipython",
    "version": 3
   },
   "file_extension": ".py",
   "mimetype": "text/x-python",
   "name": "python",
   "nbconvert_exporter": "python",
   "pygments_lexer": "ipython3",
   "version": "3.6.3"
  }
 },
 "nbformat": 4,
 "nbformat_minor": 2
}
